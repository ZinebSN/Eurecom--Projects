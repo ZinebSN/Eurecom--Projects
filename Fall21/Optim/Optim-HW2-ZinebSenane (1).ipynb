{
  "nbformat": 4,
  "nbformat_minor": 0,
  "metadata": {
    "colab": {
      "name": "OPTIM (1).ipynb",
      "provenance": [],
      "collapsed_sections": []
    },
    "kernelspec": {
      "name": "python3",
      "display_name": "Python 3"
    },
    "language_info": {
      "name": "python"
    }
  },
  "cells": [
    {
      "cell_type": "markdown",
      "source": [
        "\\begin{align} **Homework** \\space 2**  \\space \\space Zineb \\space Senane\\end{align}\n",
        "### Problem 1"
      ],
      "metadata": {
        "id": "ImbpG4ujRHLT"
      }
    },
    {
      "cell_type": "markdown",
      "source": [
        "\\begin{align}\n",
        "        \\mathbf{f(x_1,x_2,....,x_m)} = \\sum_{i=1}^m a_i \\cdot (x_i-b_i)^2+3\n",
        "\\end{align}\n",
        "\n",
        "\n",
        "\n",
        "\\begin{align}\n",
        "Goal : min \\space f(x) \n",
        "\\end{align}\n",
        "\n",
        "**Analysis:**\n",
        "\n",
        "The gradient of f : $\\bigtriangledown f(x)_{i}=2a_{i}(x_{i}-b_{i})$ for each component i.\n",
        "\n",
        "The vector minmizing f  verifies $\\bigtriangledown f(x^*)=0, \\space by \\space taking  \\space x_{i}^*=bi , \\forall i $ we have a null gradient. \n",
        "Hence, the minimum reached with this vector $x^*$ is 3.\n",
        "\n",
        "The Hessian of the function f is $\\bigtriangledown^2 f(x)_{i,j}=2a_{i}1_{i=j}$ which is a diagonal matrix.\n",
        "\n",
        "The eigen values are then the elements of this diagonal and $\\lambda_{max}=2max(a_{i}) , \\lambda_{min}=2min(a_{i}).$\n",
        "\n",
        "\n",
        "\n",
        "\n"
      ],
      "metadata": {
        "id": "V2VezVcP7lUb"
      }
    },
    {
      "cell_type": "markdown",
      "source": [
        "## Functions for our f, gradients and updates"
      ],
      "metadata": {
        "id": "TkCY6Vgf8SMc"
      }
    },
    {
      "cell_type": "code",
      "execution_count": 97,
      "metadata": {
        "id": "EV5dsDPMP7-x"
      },
      "outputs": [],
      "source": [
        "import numpy as np\n",
        "\n",
        "#Function to define our function by passing the parameters\n",
        "def my_function(X,A,B):\n",
        "  return np.sum(A*np.power(X-B,2))+3\n",
        "#Function that compute the gradient of the function f\n",
        "def grad_f(X,A,B):\n",
        "  return 2*A*(X-B)\n",
        "#descent function that return the updated X \n",
        "def update(X,A,B,step):\n",
        "  return X-step*grad_f(X,A,B)\n",
        "#norm functions\n",
        "def norm(X,Y):\n",
        "  return np.linalg.norm(X-Y)**2\n",
        "#fonction used in the stop condition\n",
        "def norm_grad(X,A,B):\n",
        "  return np.sqrt(np.sum((2*A*(X-B))**2))\n",
        "\n",
        "\n"
      ]
    },
    {
      "cell_type": "markdown",
      "source": [
        "## Gradient descent without backtracking:"
      ],
      "metadata": {
        "id": "KvBenIOXkJOi"
      }
    },
    {
      "cell_type": "code",
      "source": [
        "#Function to apply gradient descent algorithm\n",
        "def grad_descent(X,A,B, epsilon,step):\n",
        "  updates=[norm(grad_f(X,A,B),np.zeros(X.size))]\n",
        "  iteration=0\n",
        "  while norm_grad(X,A,B)>=epsilon:\n",
        "    X=update(X,A,B,step)\n",
        "    updates.append(norm_grad(X,A,B))\n",
        "    iteration+=1\n",
        "  print(\"converged after : \",iteration,\" iterations.\")\n",
        "  return X,updates"
      ],
      "metadata": {
        "id": "w6n26gwd8PH_"
      },
      "execution_count": 98,
      "outputs": []
    },
    {
      "cell_type": "markdown",
      "source": [
        "## Gradient descent with Backtracking:"
      ],
      "metadata": {
        "id": "l2eabAB3kS8W"
      }
    },
    {
      "cell_type": "code",
      "source": [
        "def grad_descent_backtracking(X,A,B, epsilon,step,alpha=0.5,beta=0.5):\n",
        "  updates=[norm_grad(X,A,B)]\n",
        "  new_X=update(X,A,B,step)\n",
        "  iteration=0\n",
        "  while norm_grad(X,A,B)>=epsilon:\n",
        "    while my_function(new_X,A,B)>my_function(X,A,B)-alpha*step*norm_grad(X,A,B)**2:\n",
        "      step*=beta\n",
        "      new_X=update(X,A,B,step)\n",
        "    X=new_X\n",
        "    new_X=update(new_X,A,B,step)\n",
        "    updates.append(norm_grad(X,A,B))\n",
        "    iteration+=1\n",
        "  print(\"converged after : \",iteration,\" iterations.\")\n",
        "  return X,updates "
      ],
      "metadata": {
        "id": "-mznHPKbkWin"
      },
      "execution_count": 99,
      "outputs": []
    },
    {
      "cell_type": "markdown",
      "source": [
        "### 3. \\begin{align} m=500, a_i = 1 \\space ∀i, b_i \\space is \\space uniformly \\space random \\space in \\space {0,..., 100}.\n",
        "\\end{align}"
      ],
      "metadata": {
        "id": "1951AWPv9EuC"
      }
    },
    {
      "cell_type": "code",
      "source": [
        "m=500\n",
        "A=np.ones(m)\n",
        "B=np.random.randint(0,100+1, size=m)\n",
        "X=np.zeros(m)"
      ],
      "metadata": {
        "id": "TLGnlYWSt761"
      },
      "execution_count": 100,
      "outputs": []
    },
    {
      "cell_type": "markdown",
      "source": [
        "### b) Choice of Step size and stopping condition:\n",
        "\\begin{align}\n",
        "\\frac{\\partial^{2} f}{\\partial x_{i} \\partial x_{j} }=2 a_i 1_{{i=j}}\\\\\n",
        " \\bigtriangledown^2 f= \\begin{bmatrix}\n",
        "    2 a_1 & & & & & \\\\\n",
        "    & 2 a_2 & & & &\\\\\n",
        "    & & . & & &\\\\\n",
        "    & & & . & &\\\\\n",
        "    & & & & . &\\\\\n",
        "    & & & & & 2 a_m \n",
        "  \\end{bmatrix}\n",
        "\\end{align}\n",
        "\\begin{align} \n",
        "\\end{align}\n",
        "if $a_{i} > 0 $ then $\\bigtriangledown f $ is L lipschitz where $L=\\lambda_{max}$ and m-strongly convex where $m=\\lambda_{min}$ .\n",
        "\n",
        "The maximum value of A elements is 1 which is also the minimum value. Then $\\lambda_{max}=\\lambda_{min}=2$.\n",
        "\n",
        "Step size <$\\frac{\\lambda_{min}} {\\lambda_{max}} =1$ , then the step size needed for gradient descent to converge should be less than 1. \n",
        "\n",
        "For the stop condition, we need to verify if the new X vector converge to the optimal solution $X^*$  . However we don't know what is the right $X^*$, but we know that the convergence of X to $X^*$ is equivalent to the convergence of the norm of gradient of f at point X to 0 because f is Lipschitz and the gradient of f at $X^*$ is 0.\n",
        "\n",
        "We will test with two steps 0.4 and 0.5 for gradient descent. \n",
        "As the step size isn't critical for the backtracking case we choose t=1, and t=7 for example.\n"
      ],
      "metadata": {
        "id": "xdmrukWx-4a2"
      }
    },
    {
      "cell_type": "code",
      "source": [
        "import matplotlib.pyplot as plt\n",
        "\n",
        "#Run gradient Descent\n",
        "gd_04=grad_descent(X,A,B,1e-6,0.4)\n",
        "print(my_function(gd_04[0],A,B))\n",
        "evaluation_grad_desc_04=gd_04[1]\n",
        "k1=np.linspace(0,len(evaluation_grad_desc_04)-1,num=len(evaluation_grad_desc_04))\n",
        "\n",
        "\n",
        "gd_05=grad_descent(X,A,B,1e-6,0.5)\n",
        "print(my_function(gd_05[0],A,B))\n",
        "evaluation_grad_desc_05=gd_05[1]\n",
        "k2=np.linspace(0,len(evaluation_grad_desc_05)-1,num=len(evaluation_grad_desc_05))\n",
        "\n",
        "\n",
        "#Run gradient descent with backtracking\n",
        "gb_1=grad_descent_backtracking(X,A,B,1e-6,1)\n",
        "evaluation_grad_desc_back_1=gb_1[1]\n",
        "k3=np.linspace(0,len(evaluation_grad_desc_back_1)-1,num=len(evaluation_grad_desc_back_1))\n",
        "\n",
        "\n",
        "gb_7=grad_descent_backtracking(X,A,B,1e-6,7)\n",
        "evaluation_grad_desc_back_7=gb_7[1]\n",
        "k4=np.linspace(0,len(evaluation_grad_desc_back_7)-1,num=len(evaluation_grad_desc_back_7))\n",
        "\n",
        "fig = plt.figure(figsize=(14,10))\n",
        "ax = fig.add_subplot(4, 1, 1)\n",
        "ax.set_yscale('log')\n",
        "plt.plot(k1,evaluation_grad_desc_04,label='Gradient Descent-step=0,4')\n",
        "plt.plot(k3,evaluation_grad_desc_back_1,label='Gradient Descent with Backtracking-Step=1')\n",
        "plt.plot(k2,evaluation_grad_desc_05,label='Gradient Descent-Step=0,5')\n",
        "plt.plot(k4,evaluation_grad_desc_back_7,label='Gradient Descent with Backtracking-Step=7')\n",
        "plt.title(\"Norm of the Gradient at each step of the Gradient Descent\")\n",
        "plt.xlabel(\"Steps\")\n",
        "plt.ylabel(\"Norm of the Gradient\")\n",
        "plt.legend()\n"
      ],
      "metadata": {
        "colab": {
          "base_uri": "https://localhost:8080/",
          "height": 318
        },
        "id": "kykOYObNuYZ0",
        "outputId": "a963459e-0394-4c8a-a7a5-3862497c48af"
      },
      "execution_count": 103,
      "outputs": [
        {
          "output_type": "stream",
          "name": "stdout",
          "text": [
            "converged after :  14  iterations.\n",
            "3.0000000000000475\n",
            "converged after :  1  iterations.\n",
            "3.0\n",
            "converged after :  32  iterations.\n",
            "converged after :  11  iterations.\n"
          ]
        },
        {
          "output_type": "execute_result",
          "data": {
            "text/plain": [
              "<matplotlib.legend.Legend at 0x7f720e9b7b10>"
            ]
          },
          "metadata": {},
          "execution_count": 103
        },
        {
          "output_type": "display_data",
          "data": {
            "image/png": "[encoded data removed]",
            "text/plain": [
              "<Figure size 1008x720 with 1 Axes>"
            ]
          },
          "metadata": {
            "needs_background": "light"
          }
        }
      ]
    },
    {
      "cell_type": "markdown",
      "source": [
        "As we can see for the standard gradient descent with a step size of 0.5 the algorithm converges  in one iteration and gives better convergence as the minimum reached is exactly 3 (the value expected in the analytical analysis). For step=0.4 the algorithm converges in 13 iterations but not in an exponential way.\n",
        "For the backtracking case, we observe that algorithm converges always exponentially (we a line in log scale) with differents initial step as the choice of step size is not critical here. However the number of iterations changes. With step size =7 the algorithm converges only in 11 iterations compared to a step size of 1 (need 32 iterations to converge)."
      ],
      "metadata": {
        "id": "z28MO9N_87o7"
      }
    },
    {
      "cell_type": "markdown",
      "source": [
        "## 4. \\begin{align} m=500, a_i  \\space and \\space  b_i \\space is \\space uniformly \\space random \\space in \\space {1,..., 100}, ∀i.\n",
        "\\end{align}"
      ],
      "metadata": {
        "id": "M-ooivmMPAOY"
      }
    },
    {
      "cell_type": "code",
      "source": [
        "m=500\n",
        "A=np.random.randint(1,100+1, size=m)\n",
        "B=np.random.randint(1,100+1, size=m)\n",
        "X=np.zeros(m)"
      ],
      "metadata": {
        "id": "LJxYJAe25mAo"
      },
      "execution_count": 106,
      "outputs": []
    },
    {
      "cell_type": "markdown",
      "source": [
        "### b) Choice of Step size and stopping condition:\n",
        "\\begin{align}\n",
        "\\frac{\\partial^{2} f}{\\partial x_{i} \\partial x_{j} }=2 a_i 1_{{i=j}}\\\\\n",
        " \\bigtriangledown^2 f= \\begin{bmatrix}\n",
        "    2 a_1 & & & & & \\\\\n",
        "    & 2 a_2 & & & &\\\\\n",
        "    & & . & & &\\\\\n",
        "    & & & . & &\\\\\n",
        "    & & & & . &\\\\\n",
        "    & & & & & 2 a_m \n",
        "  \\end{bmatrix}\n",
        "\\end{align}\n",
        "\\begin{align} if \\space a_{i}\n",
        "\\end{align}\n",
        "if $a_{i} > 0 $ then $\\bigtriangledown f $ is L lipschitz where $L=\\lambda_{max}$ and m-strongly convex where $m=\\lambda_{min}$ .\n",
        "\n",
        "The maximum value that can be reached for A elements is 100 and the minimum value is greater or equal than 1. Then $\\lambda_{max} \\le 200, \\lambda_{min} \\ge 2$.\n",
        "\n",
        "Hence, Step<$\\frac {\\lambda_{min}} {\\lambda_{max}} =\\frac{2} {200}=0.01$ , the step size for gradient descent should be less than 0.01. \n",
        "\n",
        "For the stop condition, we need the verify if the new X vector converge to the optimal solution $X^*$  . However we don't know what is the right $X^*$, but we know that the convergence of X to $X^*$ is equivalent to the convergence of the norm of gradient of f at point X to 0 as f is Lipschitz and  the gradient of f at $X^*$ is 0.\n",
        "\n",
        "We will test with the gradient descent at this case with two steps 0.0045 and 0.0099 . As the previous case the step size isn't critical for backtracking as we update it if it's not adapted, then we will keep the same values t=1 and t=7. "
      ],
      "metadata": {
        "id": "rMssjkRERxvn"
      }
    },
    {
      "cell_type": "code",
      "source": [
        "import matplotlib.pyplot as plt\n",
        "\n",
        "#Run gradient Descent\n",
        "gd_045=grad_descent(X,A,B,1e-6,0.0045)\n",
        "print(my_function(gd_045[0],A,B))\n",
        "evaluation_grad_desc_045=gd_045[1]\n",
        "k1=np.linspace(0,len(evaluation_grad_desc_045)-1,num=len(evaluation_grad_desc_045))\n",
        "\n",
        "\n",
        "gd_099=grad_descent(X,A,B,1e-6,0.0099)\n",
        "print(my_function(gd_099[0],A,B))\n",
        "evaluation_grad_desc_099=gd_099[1]\n",
        "k2=np.linspace(0,len(evaluation_grad_desc_099)-1,num=len(evaluation_grad_desc_099))\n",
        "\n",
        "\n",
        "#Run gradient descent with backtracking\n",
        "gb_1=grad_descent_backtracking(X,A,B,1e-6,1)\n",
        "evaluation_grad_desc_back_1=gb_1[1]\n",
        "k3=np.linspace(0,len(evaluation_grad_desc_back_1)-1,num=len(evaluation_grad_desc_back_1))\n",
        "\n",
        "\n",
        "gb_7=grad_descent_backtracking(X,A,B,1e-6,7)\n",
        "evaluation_grad_desc_back_7=gb_7[1]\n",
        "k4=np.linspace(0,len(evaluation_grad_desc_back_7)-1,num=len(evaluation_grad_desc_back_7))\n",
        "\n",
        "fig = plt.figure(figsize=(14,10))\n",
        "ax = fig.add_subplot(4, 1, 1)\n",
        "ax.set_yscale('log')\n",
        "plt.plot(k1,evaluation_grad_desc_045,label='Gradient Descent-step=0,0045')\n",
        "plt.plot(k3,evaluation_grad_desc_back_1,label='Gradient Descent with Backtracking-Step=1')\n",
        "plt.plot(k2,evaluation_grad_desc_099,label='Gradient Descent-Step=0,0099')\n",
        "plt.plot(k4,evaluation_grad_desc_back_7,label='Gradient Descent with Backtracking-Step=7')\n",
        "plt.title(\"Norm of the Gradient at each step of the Gradient Descent\")\n",
        "plt.xlabel(\"Steps\")\n",
        "plt.ylabel(\"Norm of the Gradient\")\n",
        "plt.legend()\n"
      ],
      "metadata": {
        "colab": {
          "base_uri": "https://localhost:8080/",
          "height": 318
        },
        "id": "PKJPKB9J6d7T",
        "outputId": "b494f38c-c934-4928-85f2-807a6de5ca59"
      },
      "execution_count": 107,
      "outputs": [
        {
          "output_type": "stream",
          "name": "stdout",
          "text": [
            "converged after :  2136  iterations.\n",
            "3.000000000000249\n",
            "converged after :  1182  iterations.\n",
            "3.0000000000000027\n",
            "converged after :  2462  iterations.\n",
            "converged after :  2815  iterations.\n"
          ]
        },
        {
          "output_type": "execute_result",
          "data": {
            "text/plain": [
              "<matplotlib.legend.Legend at 0x7f720e596cd0>"
            ]
          },
          "metadata": {},
          "execution_count": 107
        },
        {
          "output_type": "display_data",
          "data": {
            "image/png": "[encoded data removed]",
            "text/plain": [
              "<Figure size 1008x720 with 1 Axes>"
            ]
          },
          "metadata": {
            "needs_background": "light"
          }
        }
      ]
    },
    {
      "cell_type": "markdown",
      "source": [
        "For this case, the standard gradient descent with step size=0.0099 converges rapidely and much better than the other cases including gradient descent with backtracking. The convergence rates for this case are asymptotically exponential. Comparing these results with the ones obtained in the previous case, we notice that  here we have a very large number iterations."
      ],
      "metadata": {
        "id": "IBo9NdrEf0rz"
      }
    },
    {
      "cell_type": "markdown",
      "source": [
        "# Problem 2: Dual Ascent"
      ],
      "metadata": {
        "id": "GMq8U00tQ8Re"
      }
    },
    {
      "cell_type": "markdown",
      "source": [
        "\\begin{align}\n",
        "        \\mathbf{f(x_1,x_2,....,x_m)} = \\sum_{i=1}^m a_i \\cdot (x_i-b_i)^2+3\n",
        "    \\end{align}\n",
        "\n",
        "Goal : minimize f such that:\n",
        "\n",
        "$ x_i \\ge 0 , \\forall i$\n",
        "\n",
        "$ \\sum_{i=1}^m x_i \\le 100$\n",
        "\n",
        "We first calculate the Langrangian:\n",
        "\n",
        "$ h_i(x)=- x_i, \\forall i ⊂{1,...,m}$\n",
        "\n",
        "$ h_{m+1}(x)=\\sum_{i=1}^m x_i - 100$\n",
        "\n",
        "$L(x,u)=f(x)+ \\sum_{i=1}^{m+1} u_ih_i(x)$\n",
        "\n",
        "Question 1:\n",
        "\n",
        "The KKT condition for this minimization problem are:\n",
        "\n",
        "1.      Stationarity: $0 \\subset \\partial_x (f(x)+\\sum_{i=1}^{m+1} u_ih_i(x))$\n",
        "\n",
        "$ \\partial_{x_i} (f(x)+\\sum_{i=1}^{m+1} u_ih_i(x))= 2a_i(x_i-b_i)-u_i+u_{m+1}$\n",
        "\n",
        "Then :\n",
        "\n",
        " $2a_i(x_i-b_i)-u_i+u_{m+1}=0, \\forall i \\subset {1,.....,m}$\n",
        "\n",
        " 2. Complementarity slackness:\n",
        "\n",
        " $ u_i h_i(x) =0, \\forall i$\n",
        "\n",
        " Then:\n",
        "\n",
        " $ u_i \\cdot x_i=O ,  \\forall i \\subset  {1,.....,m}$\n",
        "\n",
        " $ u_{m+1} \\cdot (\\sum_{i=1}^{m+1} x_i -100)=0$\n",
        "\n",
        "\n",
        " 3. Primal feasibility: $h_i(x) \\le 0, \\forall i$\n",
        "\n",
        " $ x_i \\ge 0, \\forall i \\subset {1,....,m}$\n",
        "\n",
        " $ \\sum_{i=1}^{m+1} x_i \\le 100$\n",
        "\n",
        " 4. Dual feasibility:\n",
        "\n",
        " $u_i \\ge 0, \\forall i$\n",
        "\n",
        "Expression for primal and dual variables: \n",
        "\n",
        "From condition 2. we have : $x_i \\neq 0 \\Leftrightarrow u_i=0 $\n",
        "\n",
        "From condition 1, we get $ x_i=  b_i + \\frac {u_i - u_{m+1}}{2 a_i } \\ge 0$\n",
        "\n",
        "From condition 4, we conclude that $u_{m+1}=0$  or $\\sum_{i=1}^{m+1} x_i=100$\n",
        "\n",
        "To implement the dual ascent algorithm we need first to find the argmin of the Langrangian. We can do it analytically(as from condition 1) or by applying gradient descent with or without backtracking to the Langrangian. \n",
        "So I will use both of them  to find the argmin of Langrangian."
      ],
      "metadata": {
        "id": "gMB1CdIbAoWf"
      }
    },
    {
      "cell_type": "code",
      "source": [
        "def grad_descent_lang_backtracking(X,A,B,U, epsilon,step,alpha=0.5,beta=0.5):\n",
        "  new_X=update_L_X(X,A,B,U,step)\n",
        "  iteration=0\n",
        "  while norm_grad_L(X,A,B,U)>=epsilon:\n",
        "    while langraNgian(new_X,A,B,U)>langraNgian(X,A,B,U)-alpha*step*(norm(grad_L_x(X,A,B,U),np.zeros(grad_L_x(X,A,B,U).size))):\n",
        "      step*=beta\n",
        "      new_X=update_L_X(X,A,B,U,step)\n",
        "    X=new_X\n",
        "    new_X=update_L_X(new_X,A,B,U,step)\n",
        "    iteration+=1\n",
        "  return X\n",
        "  "
      ],
      "metadata": {
        "id": "MS-0zxIG8T_d"
      },
      "execution_count": 119,
      "outputs": []
    },
    {
      "cell_type": "code",
      "source": [
        "def langraNgian(X,A,B,U):\n",
        "  return my_function(X,A,B)-np.dot(X, U[:-1])+U[-1]*(np.sum(X)-100)\n",
        "def grad_L_x(X,A,B,U):\n",
        "  return grad_f(X,A,B)-U[:-1]+U[-1]\n",
        "def norm_grad_L(X,A,B,U):\n",
        "  return np.sum((grad_f(X,A,B)-U[:-1]+U[-1])**2)\n",
        "def update_L_X(X,A,B,U,step):\n",
        "  return X-step*grad_L_x(X,A,B,U)  \n",
        "def grad_L_u(X,U):\n",
        "  return np.append(-X,np.sum(X)-100)\n",
        "def argmin(X,A,B,U):\n",
        "  return B+(U[:-1]-U[-1])/(2*A)\n",
        "def update_U(X,A,B,U,step):\n",
        "  new_U=np.maximum(U+step*grad_L_u(X,U),0)\n",
        "  if(np.sum(X)==100):\n",
        "    u=new_U[-1]\n",
        "  else:\n",
        "    u=0\n",
        "  return np.append(new_U[:-1],u)\n",
        "def dual_ascent(X,A,B,U,epsilon,step):\n",
        "  updates=[my_function(X,A,B)-langraNgian(X,A,B,U)]\n",
        "  new_X=X\n",
        "  new_U=U\n",
        "  iteration=0\n",
        "  while my_function(new_X,A,B)-langraNgian(new_X,A,B,new_U)>=epsilon:\n",
        "    \n",
        "    new_X=grad_descent_lang_backtracking(new_X,A,B,new_U, epsilon,3,alpha=0.5,beta=0.5)#argmin\n",
        "    new_U=update_U(new_X,A,B,new_U,step)\n",
        "    iteration+=1\n",
        "    updates.append(norm_grad(new_X,A,B))\n",
        "  print(\"converged after : \",iteration,\" iterations.\")\n",
        "  return updates\n",
        "\n",
        "\n"
      ],
      "metadata": {
        "id": "qV_kiIsQQ_-Z"
      },
      "execution_count": 120,
      "outputs": []
    },
    {
      "cell_type": "code",
      "source": [
        "m=500\n",
        "A=np.random.randint(1,100+1, size=m)\n",
        "B=np.random.randint(1,100+1, size=m)\n",
        "X=np.zeros(m)\n",
        "U=np.ones(m+1)"
      ],
      "metadata": {
        "id": "VZjZcFOMODcQ"
      },
      "execution_count": 133,
      "outputs": []
    },
    {
      "cell_type": "code",
      "source": [
        "t=[0.01,0.015,0.02,0.1,0.4,0.5]\n",
        "for elt in t:\n",
        "  dual=dual_ascent(X,A,B,U,1e-6,elt)\n",
        "  evaluation_dual=dual\n",
        "  k2=np.linspace(0,len(evaluation_dual)-1,num=len(evaluation_dual))\n",
        "  plt.plot(k2,evaluation_dual)"
      ],
      "metadata": {
        "colab": {
          "base_uri": "https://localhost:8080/",
          "height": 369
        },
        "id": "CVkdE8k6OHBV",
        "outputId": "01143b39-16f6-4a28-b6d6-79a80fc4fdb0"
      },
      "execution_count": 146,
      "outputs": [
        {
          "output_type": "stream",
          "name": "stdout",
          "text": [
            "converged after :  100  iterations.\n",
            "converged after :  67  iterations.\n",
            "converged after :  50  iterations.\n",
            "converged after :  10  iterations.\n",
            "converged after :  3  iterations.\n",
            "converged after :  2  iterations.\n"
          ]
        },
        {
          "output_type": "display_data",
          "data": {
            "image/png": "[encoded data removed]",
            "text/plain": [
              "<Figure size 432x288 with 1 Axes>"
            ]
          },
          "metadata": {
            "needs_background": "light"
          }
        }
      ]
    },
    {
      "cell_type": "code",
      "source": [
        "def gradient_ascent(X,A,B,U,epsilon,step):\n",
        "  #updates=[my_function(X,A,B)-langraNgian(X,A,B,U)]\n",
        "  new_X=X\n",
        "  new_U=U\n",
        "  iteration=0\n",
        "  updates=[]\n",
        "  while my_function(new_X,A,B)-langraNgian(new_X,A,B,new_U)>=epsilon:\n",
        "    \n",
        "    new_X=argmin(new_X,A,B,new_U)\n",
        "    new_U=update_U(new_X,A,B,new_U,step)\n",
        "    iteration+=1\n",
        "    updates.append(norm_grad(new_X,A,B))\n",
        "  print(\"converged after : \",iteration,\" iterations.\")\n",
        "  return updates"
      ],
      "metadata": {
        "id": "846lr2q5cCpR"
      },
      "execution_count": 142,
      "outputs": []
    },
    {
      "cell_type": "code",
      "source": [
        "t=[0.01,0.015,0.02,0.1,0.4,0.5,1]\n",
        "for elt in t:\n",
        "  dual=gradient_ascent(X,A,B,U,1e-6,elt)\n",
        "  evaluation_dual=dual\n",
        "  k2=np.linspace(0,len(evaluation_dual)-1,num=len(evaluation_dual))\n",
        "  plt.plot(k2,evaluation_dual)"
      ],
      "metadata": {
        "colab": {
          "base_uri": "https://localhost:8080/",
          "height": 387
        },
        "id": "942M87K6dnZT",
        "outputId": "20de7b7e-9911-4aac-e0ff-da01e066b084"
      },
      "execution_count": 144,
      "outputs": [
        {
          "output_type": "stream",
          "name": "stdout",
          "text": [
            "converged after :  100  iterations.\n",
            "converged after :  67  iterations.\n",
            "converged after :  50  iterations.\n",
            "converged after :  10  iterations.\n",
            "converged after :  3  iterations.\n",
            "converged after :  2  iterations.\n",
            "converged after :  1  iterations.\n"
          ]
        },
        {
          "output_type": "display_data",
          "data": {
            "image/png": "[encoded data removed]",
            "text/plain": [
              "<Figure size 432x288 with 1 Axes>"
            ]
          },
          "metadata": {
            "needs_background": "light"
          }
        }
      ]
    },
    {
      "cell_type": "markdown",
      "source": [
        "We conclude that there is no difference between using the analytical expression for the argmin and using gradient descent with backtracking to minimize the Langrangian.\n",
        "As the step size increase, the algorithm converge in less number of iterations.\n",
        "<br>\n",
        "**The stop condition :** Our goal ,minimizing f with the constraints will be reached if we can solve an unconstrained minimization problem and reduce as much as possible the penalty, which is equivalent to minimize the distance (difference) between the Langrangian and the function.\n",
        "\n",
        "The convergence rate seems to be exponential (asymptotically).\n",
        "\n",
        "\n",
        "\n",
        "\n"
      ],
      "metadata": {
        "id": "HzDLfxdzd7Ax"
      }
    },
    {
      "cell_type": "markdown",
      "source": [
        "3.As we can see, the function to minimize can be decomposed into m subfunctions such that: $f_{i}(x_{i})=a_{i}(x_{i}-b_{i})^2+\\frac {3}{m}$. By using the dual decomposition , the argmin can be calculated using different cores each one is responsible for the $argmin_{i}$. The central node will then receive all the $argmin_{i}$ and use the to update the U. That means that the number of iterations for the dual ascent convergence will not be reduced. However, distributing the argmin problem will help to reduce the time of execution of the dual ascent algorithm.  \n"
      ],
      "metadata": {
        "id": "1sR4wvkMrJLS"
      }
    }
  ]
}