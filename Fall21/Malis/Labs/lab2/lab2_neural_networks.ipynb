version https://git-lfs.github.com/spec/v1
oid sha256:d95033fda32d8d94c3084d2ed8a4cc8990819241088563d43628f7fa9b701353
size 202056
