{
  "nbformat": 4,
  "nbformat_minor": 0,
  "metadata": {
    "colab": {
      "name": "features_selection.ipynb",
      "provenance": [],
      "collapsed_sections": [
        "-FnwXea6QFGM"
      ]
    },
    "kernelspec": {
      "name": "python3",
      "display_name": "Python 3"
    },
    "language_info": {
      "name": "python"
    }
  },
  "cells": [
    {
      "cell_type": "markdown",
      "source": [
        "# **Fetal Risk Prediction**\n"
      ],
      "metadata": {
        "id": "IyBf82mvmZNJ"
      }
    },
    {
      "cell_type": "markdown",
      "source": [
        "## Importing Libraries "
      ],
      "metadata": {
        "id": "ZNUYufUR2kUD"
      }
    },
    {
      "cell_type": "code",
      "execution_count": 1,
      "metadata": {
        "id": "K8iFP0xEeXqg"
      },
      "outputs": [],
      "source": [
        "#Libraries\n",
        "import pandas as pd\n",
        "import numpy as np\n",
        "import seaborn as sns\n",
        "import matplotlib.pyplot as plt\n",
        "from IPython.display import display_html \n",
        "\n",
        "#Preprocessing\n",
        "from sklearn.preprocessing import StandardScaler\n",
        "from sklearn.feature_selection import SelectKBest\n",
        "from sklearn.feature_selection import f_classif\n",
        "from sklearn.feature_selection import RFECV\n",
        "from scipy import stats\n",
        "\n",
        "#Processing\n",
        "from sklearn.model_selection import train_test_split \n",
        "from sklearn.model_selection import GridSearchCV\n",
        "from sklearn.model_selection import StratifiedKFold\n",
        "\n",
        "#Metrics\n",
        "from sklearn.metrics import precision_score, recall_score, f1_score, accuracy_score\n",
        "from sklearn.metrics import confusion_matrix\n",
        "\n",
        "#ML models\n",
        "from sklearn.linear_model import LogisticRegression \n",
        "from sklearn.svm import SVC\n",
        "from sklearn.neighbors import KNeighborsClassifier\n",
        "from sklearn.ensemble import GradientBoostingClassifier \n",
        "from xgboost import XGBClassifier\n",
        "from sklearn.neural_network import MLPClassifier\n",
        "from sklearn.tree import DecisionTreeClassifier\n",
        "from sklearn.ensemble import RandomForestClassifier\n"
      ]
    },
    {
      "cell_type": "markdown",
      "source": [
        "## Loading Data"
      ],
      "metadata": {
        "id": "4__vx0gQooYp"
      }
    },
    {
      "cell_type": "code",
      "source": [
        "fetal_df=pd.read_csv('./fetal_health.csv')"
      ],
      "metadata": {
        "id": "dbPa7rC0gCN6"
      },
      "execution_count": 2,
      "outputs": []
    },
    {
      "cell_type": "markdown",
      "source": [
        "## Data Analysis"
      ],
      "metadata": {
        "id": "b1AbhyZgouAZ"
      }
    },
    {
      "cell_type": "markdown",
      "source": [
        "###Look into the dataset"
      ],
      "metadata": {
        "id": "TrpyvEmSgscx"
      }
    },
    {
      "cell_type": "code",
      "source": [
        "fetal_df.head(10)"
      ],
      "metadata": {
        "colab": {
          "base_uri": "https://localhost:8080/",
          "height": 444
        },
        "id": "PV1c6XhnmjO1",
        "outputId": "48f6092f-eff8-481e-dbfc-e1d2200cf5fe"
      },
      "execution_count": 3,
      "outputs": [
        {
          "output_type": "execute_result",
          "data": {
            "text/html": [
              "\n",
              "  <div id=\"df-0e132d1d-9573-430b-8879-171c3c0c481a\">\n",
              "    <div class=\"colab-df-container\">\n",
              "      <div>\n",
              "<style scoped>\n",
              "    .dataframe tbody tr th:only-of-type {\n",
              "        vertical-align: middle;\n",
              "    }\n",
              "\n",
              "    .dataframe tbody tr th {\n",
              "        vertical-align: top;\n",
              "    }\n",
              "\n",
              "    .dataframe thead th {\n",
              "        text-align: right;\n",
              "    }\n",
              "</style>\n",
              "<table border=\"1\" class=\"dataframe\">\n",
              "  <thead>\n",
              "    <tr style=\"text-align: right;\">\n",
              "      <th></th>\n",
              "      <th>baseline value</th>\n",
              "      <th>accelerations</th>\n",
              "      <th>fetal_movement</th>\n",
              "      <th>uterine_contractions</th>\n",
              "      <th>light_decelerations</th>\n",
              "      <th>severe_decelerations</th>\n",
              "      <th>prolongued_decelerations</th>\n",
              "      <th>abnormal_short_term_variability</th>\n",
              "      <th>mean_value_of_short_term_variability</th>\n",
              "      <th>percentage_of_time_with_abnormal_long_term_variability</th>\n",
              "      <th>mean_value_of_long_term_variability</th>\n",
              "      <th>histogram_width</th>\n",
              "      <th>histogram_min</th>\n",
              "      <th>histogram_max</th>\n",
              "      <th>histogram_number_of_peaks</th>\n",
              "      <th>histogram_number_of_zeroes</th>\n",
              "      <th>histogram_mode</th>\n",
              "      <th>histogram_mean</th>\n",
              "      <th>histogram_median</th>\n",
              "      <th>histogram_variance</th>\n",
              "      <th>histogram_tendency</th>\n",
              "      <th>fetal_health</th>\n",
              "    </tr>\n",
              "  </thead>\n",
              "  <tbody>\n",
              "    <tr>\n",
              "      <th>0</th>\n",
              "      <td>120.0</td>\n",
              "      <td>0.000</td>\n",
              "      <td>0.0</td>\n",
              "      <td>0.000</td>\n",
              "      <td>0.000</td>\n",
              "      <td>0.0</td>\n",
              "      <td>0.000</td>\n",
              "      <td>73.0</td>\n",
              "      <td>0.5</td>\n",
              "      <td>43.0</td>\n",
              "      <td>2.4</td>\n",
              "      <td>64.0</td>\n",
              "      <td>62.0</td>\n",
              "      <td>126.0</td>\n",
              "      <td>2.0</td>\n",
              "      <td>0.0</td>\n",
              "      <td>120.0</td>\n",
              "      <td>137.0</td>\n",
              "      <td>121.0</td>\n",
              "      <td>73.0</td>\n",
              "      <td>1.0</td>\n",
              "      <td>2.0</td>\n",
              "    </tr>\n",
              "    <tr>\n",
              "      <th>1</th>\n",
              "      <td>132.0</td>\n",
              "      <td>0.006</td>\n",
              "      <td>0.0</td>\n",
              "      <td>0.006</td>\n",
              "      <td>0.003</td>\n",
              "      <td>0.0</td>\n",
              "      <td>0.000</td>\n",
              "      <td>17.0</td>\n",
              "      <td>2.1</td>\n",
              "      <td>0.0</td>\n",
              "      <td>10.4</td>\n",
              "      <td>130.0</td>\n",
              "      <td>68.0</td>\n",
              "      <td>198.0</td>\n",
              "      <td>6.0</td>\n",
              "      <td>1.0</td>\n",
              "      <td>141.0</td>\n",
              "      <td>136.0</td>\n",
              "      <td>140.0</td>\n",
              "      <td>12.0</td>\n",
              "      <td>0.0</td>\n",
              "      <td>1.0</td>\n",
              "    </tr>\n",
              "    <tr>\n",
              "      <th>2</th>\n",
              "      <td>133.0</td>\n",
              "      <td>0.003</td>\n",
              "      <td>0.0</td>\n",
              "      <td>0.008</td>\n",
              "      <td>0.003</td>\n",
              "      <td>0.0</td>\n",
              "      <td>0.000</td>\n",
              "      <td>16.0</td>\n",
              "      <td>2.1</td>\n",
              "      <td>0.0</td>\n",
              "      <td>13.4</td>\n",
              "      <td>130.0</td>\n",
              "      <td>68.0</td>\n",
              "      <td>198.0</td>\n",
              "      <td>5.0</td>\n",
              "      <td>1.0</td>\n",
              "      <td>141.0</td>\n",
              "      <td>135.0</td>\n",
              "      <td>138.0</td>\n",
              "      <td>13.0</td>\n",
              "      <td>0.0</td>\n",
              "      <td>1.0</td>\n",
              "    </tr>\n",
              "    <tr>\n",
              "      <th>3</th>\n",
              "      <td>134.0</td>\n",
              "      <td>0.003</td>\n",
              "      <td>0.0</td>\n",
              "      <td>0.008</td>\n",
              "      <td>0.003</td>\n",
              "      <td>0.0</td>\n",
              "      <td>0.000</td>\n",
              "      <td>16.0</td>\n",
              "      <td>2.4</td>\n",
              "      <td>0.0</td>\n",
              "      <td>23.0</td>\n",
              "      <td>117.0</td>\n",
              "      <td>53.0</td>\n",
              "      <td>170.0</td>\n",
              "      <td>11.0</td>\n",
              "      <td>0.0</td>\n",
              "      <td>137.0</td>\n",
              "      <td>134.0</td>\n",
              "      <td>137.0</td>\n",
              "      <td>13.0</td>\n",
              "      <td>1.0</td>\n",
              "      <td>1.0</td>\n",
              "    </tr>\n",
              "    <tr>\n",
              "      <th>4</th>\n",
              "      <td>132.0</td>\n",
              "      <td>0.007</td>\n",
              "      <td>0.0</td>\n",
              "      <td>0.008</td>\n",
              "      <td>0.000</td>\n",
              "      <td>0.0</td>\n",
              "      <td>0.000</td>\n",
              "      <td>16.0</td>\n",
              "      <td>2.4</td>\n",
              "      <td>0.0</td>\n",
              "      <td>19.9</td>\n",
              "      <td>117.0</td>\n",
              "      <td>53.0</td>\n",
              "      <td>170.0</td>\n",
              "      <td>9.0</td>\n",
              "      <td>0.0</td>\n",
              "      <td>137.0</td>\n",
              "      <td>136.0</td>\n",
              "      <td>138.0</td>\n",
              "      <td>11.0</td>\n",
              "      <td>1.0</td>\n",
              "      <td>1.0</td>\n",
              "    </tr>\n",
              "    <tr>\n",
              "      <th>5</th>\n",
              "      <td>134.0</td>\n",
              "      <td>0.001</td>\n",
              "      <td>0.0</td>\n",
              "      <td>0.010</td>\n",
              "      <td>0.009</td>\n",
              "      <td>0.0</td>\n",
              "      <td>0.002</td>\n",
              "      <td>26.0</td>\n",
              "      <td>5.9</td>\n",
              "      <td>0.0</td>\n",
              "      <td>0.0</td>\n",
              "      <td>150.0</td>\n",
              "      <td>50.0</td>\n",
              "      <td>200.0</td>\n",
              "      <td>5.0</td>\n",
              "      <td>3.0</td>\n",
              "      <td>76.0</td>\n",
              "      <td>107.0</td>\n",
              "      <td>107.0</td>\n",
              "      <td>170.0</td>\n",
              "      <td>0.0</td>\n",
              "      <td>3.0</td>\n",
              "    </tr>\n",
              "    <tr>\n",
              "      <th>6</th>\n",
              "      <td>134.0</td>\n",
              "      <td>0.001</td>\n",
              "      <td>0.0</td>\n",
              "      <td>0.013</td>\n",
              "      <td>0.008</td>\n",
              "      <td>0.0</td>\n",
              "      <td>0.003</td>\n",
              "      <td>29.0</td>\n",
              "      <td>6.3</td>\n",
              "      <td>0.0</td>\n",
              "      <td>0.0</td>\n",
              "      <td>150.0</td>\n",
              "      <td>50.0</td>\n",
              "      <td>200.0</td>\n",
              "      <td>6.0</td>\n",
              "      <td>3.0</td>\n",
              "      <td>71.0</td>\n",
              "      <td>107.0</td>\n",
              "      <td>106.0</td>\n",
              "      <td>215.0</td>\n",
              "      <td>0.0</td>\n",
              "      <td>3.0</td>\n",
              "    </tr>\n",
              "    <tr>\n",
              "      <th>7</th>\n",
              "      <td>122.0</td>\n",
              "      <td>0.000</td>\n",
              "      <td>0.0</td>\n",
              "      <td>0.000</td>\n",
              "      <td>0.000</td>\n",
              "      <td>0.0</td>\n",
              "      <td>0.000</td>\n",
              "      <td>83.0</td>\n",
              "      <td>0.5</td>\n",
              "      <td>6.0</td>\n",
              "      <td>15.6</td>\n",
              "      <td>68.0</td>\n",
              "      <td>62.0</td>\n",
              "      <td>130.0</td>\n",
              "      <td>0.0</td>\n",
              "      <td>0.0</td>\n",
              "      <td>122.0</td>\n",
              "      <td>122.0</td>\n",
              "      <td>123.0</td>\n",
              "      <td>3.0</td>\n",
              "      <td>1.0</td>\n",
              "      <td>3.0</td>\n",
              "    </tr>\n",
              "    <tr>\n",
              "      <th>8</th>\n",
              "      <td>122.0</td>\n",
              "      <td>0.000</td>\n",
              "      <td>0.0</td>\n",
              "      <td>0.002</td>\n",
              "      <td>0.000</td>\n",
              "      <td>0.0</td>\n",
              "      <td>0.000</td>\n",
              "      <td>84.0</td>\n",
              "      <td>0.5</td>\n",
              "      <td>5.0</td>\n",
              "      <td>13.6</td>\n",
              "      <td>68.0</td>\n",
              "      <td>62.0</td>\n",
              "      <td>130.0</td>\n",
              "      <td>0.0</td>\n",
              "      <td>0.0</td>\n",
              "      <td>122.0</td>\n",
              "      <td>122.0</td>\n",
              "      <td>123.0</td>\n",
              "      <td>3.0</td>\n",
              "      <td>1.0</td>\n",
              "      <td>3.0</td>\n",
              "    </tr>\n",
              "    <tr>\n",
              "      <th>9</th>\n",
              "      <td>122.0</td>\n",
              "      <td>0.000</td>\n",
              "      <td>0.0</td>\n",
              "      <td>0.003</td>\n",
              "      <td>0.000</td>\n",
              "      <td>0.0</td>\n",
              "      <td>0.000</td>\n",
              "      <td>86.0</td>\n",
              "      <td>0.3</td>\n",
              "      <td>6.0</td>\n",
              "      <td>10.6</td>\n",
              "      <td>68.0</td>\n",
              "      <td>62.0</td>\n",
              "      <td>130.0</td>\n",
              "      <td>1.0</td>\n",
              "      <td>0.0</td>\n",
              "      <td>122.0</td>\n",
              "      <td>122.0</td>\n",
              "      <td>123.0</td>\n",
              "      <td>1.0</td>\n",
              "      <td>1.0</td>\n",
              "      <td>3.0</td>\n",
              "    </tr>\n",
              "  </tbody>\n",
              "</table>\n",
              "</div>\n",
              "      <button class=\"colab-df-convert\" onclick=\"convertToInteractive('df-0e132d1d-9573-430b-8879-171c3c0c481a')\"\n",
              "              title=\"Convert this dataframe to an interactive table.\"\n",
              "              style=\"display:none;\">\n",
              "        \n",
              "  <svg xmlns=\"http://www.w3.org/2000/svg\" height=\"24px\"viewBox=\"0 0 24 24\"\n",
              "       width=\"24px\">\n",
              "    <path d=\"M0 0h24v24H0V0z\" fill=\"none\"/>\n",
              "    <path d=\"M18.56 5.44l.94 2.06.94-2.06 2.06-.94-2.06-.94-.94-2.06-.94 2.06-2.06.94zm-11 1L8.5 8.5l.94-2.06 2.06-.94-2.06-.94L8.5 2.5l-.94 2.06-2.06.94zm10 10l.94 2.06.94-2.06 2.06-.94-2.06-.94-.94-2.06-.94 2.06-2.06.94z\"/><path d=\"M17.41 7.96l-1.37-1.37c-.4-.4-.92-.59-1.43-.59-.52 0-1.04.2-1.43.59L10.3 9.45l-7.72 7.72c-.78.78-.78 2.05 0 2.83L4 21.41c.39.39.9.59 1.41.59.51 0 1.02-.2 1.41-.59l7.78-7.78 2.81-2.81c.8-.78.8-2.07 0-2.86zM5.41 20L4 18.59l7.72-7.72 1.47 1.35L5.41 20z\"/>\n",
              "  </svg>\n",
              "      </button>\n",
              "      \n",
              "  <style>\n",
              "    .colab-df-container {\n",
              "      display:flex;\n",
              "      flex-wrap:wrap;\n",
              "      gap: 12px;\n",
              "    }\n",
              "\n",
              "    .colab-df-convert {\n",
              "      background-color: #E8F0FE;\n",
              "      border: none;\n",
              "      border-radius: 50%;\n",
              "      cursor: pointer;\n",
              "      display: none;\n",
              "      fill: #1967D2;\n",
              "      height: 32px;\n",
              "      padding: 0 0 0 0;\n",
              "      width: 32px;\n",
              "    }\n",
              "\n",
              "    .colab-df-convert:hover {\n",
              "      background-color: #E2EBFA;\n",
              "      box-shadow: 0px 1px 2px rgba(60, 64, 67, 0.3), 0px 1px 3px 1px rgba(60, 64, 67, 0.15);\n",
              "      fill: #174EA6;\n",
              "    }\n",
              "\n",
              "    [theme=dark] .colab-df-convert {\n",
              "      background-color: #3B4455;\n",
              "      fill: #D2E3FC;\n",
              "    }\n",
              "\n",
              "    [theme=dark] .colab-df-convert:hover {\n",
              "      background-color: #434B5C;\n",
              "      box-shadow: 0px 1px 3px 1px rgba(0, 0, 0, 0.15);\n",
              "      filter: drop-shadow(0px 1px 2px rgba(0, 0, 0, 0.3));\n",
              "      fill: #FFFFFF;\n",
              "    }\n",
              "  </style>\n",
              "\n",
              "      <script>\n",
              "        const buttonEl =\n",
              "          document.querySelector('#df-0e132d1d-9573-430b-8879-171c3c0c481a button.colab-df-convert');\n",
              "        buttonEl.style.display =\n",
              "          google.colab.kernel.accessAllowed ? 'block' : 'none';\n",
              "\n",
              "        async function convertToInteractive(key) {\n",
              "          const element = document.querySelector('#df-0e132d1d-9573-430b-8879-171c3c0c481a');\n",
              "          const dataTable =\n",
              "            await google.colab.kernel.invokeFunction('convertToInteractive',\n",
              "                                                     [key], {});\n",
              "          if (!dataTable) return;\n",
              "\n",
              "          const docLinkHtml = 'Like what you see? Visit the ' +\n",
              "            '<a target=\"_blank\" href=https://colab.research.google.com/notebooks/data_table.ipynb>data table notebook</a>'\n",
              "            + ' to learn more about interactive tables.';\n",
              "          element.innerHTML = '';\n",
              "          dataTable['output_type'] = 'display_data';\n",
              "          await google.colab.output.renderOutput(dataTable, element);\n",
              "          const docLink = document.createElement('div');\n",
              "          docLink.innerHTML = docLinkHtml;\n",
              "          element.appendChild(docLink);\n",
              "        }\n",
              "      </script>\n",
              "    </div>\n",
              "  </div>\n",
              "  "
            ],
            "text/plain": [
              "   baseline value  accelerations  ...  histogram_tendency  fetal_health\n",
              "0           120.0          0.000  ...                 1.0           2.0\n",
              "1           132.0          0.006  ...                 0.0           1.0\n",
              "2           133.0          0.003  ...                 0.0           1.0\n",
              "3           134.0          0.003  ...                 1.0           1.0\n",
              "4           132.0          0.007  ...                 1.0           1.0\n",
              "5           134.0          0.001  ...                 0.0           3.0\n",
              "6           134.0          0.001  ...                 0.0           3.0\n",
              "7           122.0          0.000  ...                 1.0           3.0\n",
              "8           122.0          0.000  ...                 1.0           3.0\n",
              "9           122.0          0.000  ...                 1.0           3.0\n",
              "\n",
              "[10 rows x 22 columns]"
            ]
          },
          "metadata": {},
          "execution_count": 3
        }
      ]
    },
    {
      "cell_type": "code",
      "source": [
        "fetal_df.info()"
      ],
      "metadata": {
        "id": "EcjKpiC7ljTT",
        "colab": {
          "base_uri": "https://localhost:8080/"
        },
        "outputId": "3da9b273-c917-478b-f4b6-52a865567e92"
      },
      "execution_count": 4,
      "outputs": [
        {
          "output_type": "stream",
          "name": "stdout",
          "text": [
            "<class 'pandas.core.frame.DataFrame'>\n",
            "RangeIndex: 2126 entries, 0 to 2125\n",
            "Data columns (total 22 columns):\n",
            " #   Column                                                  Non-Null Count  Dtype  \n",
            "---  ------                                                  --------------  -----  \n",
            " 0   baseline value                                          2126 non-null   float64\n",
            " 1   accelerations                                           2126 non-null   float64\n",
            " 2   fetal_movement                                          2126 non-null   float64\n",
            " 3   uterine_contractions                                    2126 non-null   float64\n",
            " 4   light_decelerations                                     2126 non-null   float64\n",
            " 5   severe_decelerations                                    2126 non-null   float64\n",
            " 6   prolongued_decelerations                                2126 non-null   float64\n",
            " 7   abnormal_short_term_variability                         2126 non-null   float64\n",
            " 8   mean_value_of_short_term_variability                    2126 non-null   float64\n",
            " 9   percentage_of_time_with_abnormal_long_term_variability  2126 non-null   float64\n",
            " 10  mean_value_of_long_term_variability                     2126 non-null   float64\n",
            " 11  histogram_width                                         2126 non-null   float64\n",
            " 12  histogram_min                                           2126 non-null   float64\n",
            " 13  histogram_max                                           2126 non-null   float64\n",
            " 14  histogram_number_of_peaks                               2126 non-null   float64\n",
            " 15  histogram_number_of_zeroes                              2126 non-null   float64\n",
            " 16  histogram_mode                                          2126 non-null   float64\n",
            " 17  histogram_mean                                          2126 non-null   float64\n",
            " 18  histogram_median                                        2126 non-null   float64\n",
            " 19  histogram_variance                                      2126 non-null   float64\n",
            " 20  histogram_tendency                                      2126 non-null   float64\n",
            " 21  fetal_health                                            2126 non-null   float64\n",
            "dtypes: float64(22)\n",
            "memory usage: 365.5 KB\n"
          ]
        }
      ]
    },
    {
      "cell_type": "markdown",
      "source": [
        "The dataset contains 21 features and the target variable 'fetal_health'."
      ],
      "metadata": {
        "id": "qhBs4cYNGg05"
      }
    },
    {
      "cell_type": "code",
      "source": [
        "fetal_df.shape"
      ],
      "metadata": {
        "colab": {
          "base_uri": "https://localhost:8080/"
        },
        "id": "WHSbWwoCmErj",
        "outputId": "bd62772d-a135-4acb-d795-6312a45e90a4"
      },
      "execution_count": 5,
      "outputs": [
        {
          "output_type": "execute_result",
          "data": {
            "text/plain": [
              "(2126, 22)"
            ]
          },
          "metadata": {},
          "execution_count": 5
        }
      ]
    },
    {
      "cell_type": "code",
      "source": [
        "# Pre-processing\n",
        "fetal_df = fetal_df.dropna() # drop the rows where at least one element is missing\n",
        "fetal_df = fetal_df.drop_duplicates() # remove duplicated rows \n",
        "fetal_df.shape"
      ],
      "metadata": {
        "colab": {
          "base_uri": "https://localhost:8080/"
        },
        "id": "jdXpN4YuiqNe",
        "outputId": "6049d36f-9532-49aa-97cf-83545c821b1d"
      },
      "execution_count": 6,
      "outputs": [
        {
          "output_type": "execute_result",
          "data": {
            "text/plain": [
              "(2113, 22)"
            ]
          },
          "metadata": {},
          "execution_count": 6
        }
      ]
    },
    {
      "cell_type": "markdown",
      "source": [
        "13 rows are removed from the dataset."
      ],
      "metadata": {
        "id": "qOMN3bPfBWaD"
      }
    },
    {
      "cell_type": "code",
      "source": [
        "fetal_df.describe()"
      ],
      "metadata": {
        "colab": {
          "base_uri": "https://localhost:8080/",
          "height": 381
        },
        "id": "_aHXYeDYkdfG",
        "outputId": "6973900e-98ba-4984-963c-7cb5a013b1a5"
      },
      "execution_count": 7,
      "outputs": [
        {
          "output_type": "execute_result",
          "data": {
            "text/html": [
              "\n",
              "  <div id=\"df-71082449-d844-4d81-8556-a8eecc060fba\">\n",
              "    <div class=\"colab-df-container\">\n",
              "      <div>\n",
              "<style scoped>\n",
              "    .dataframe tbody tr th:only-of-type {\n",
              "        vertical-align: middle;\n",
              "    }\n",
              "\n",
              "    .dataframe tbody tr th {\n",
              "        vertical-align: top;\n",
              "    }\n",
              "\n",
              "    .dataframe thead th {\n",
              "        text-align: right;\n",
              "    }\n",
              "</style>\n",
              "<table border=\"1\" class=\"dataframe\">\n",
              "  <thead>\n",
              "    <tr style=\"text-align: right;\">\n",
              "      <th></th>\n",
              "      <th>baseline value</th>\n",
              "      <th>accelerations</th>\n",
              "      <th>fetal_movement</th>\n",
              "      <th>uterine_contractions</th>\n",
              "      <th>light_decelerations</th>\n",
              "      <th>severe_decelerations</th>\n",
              "      <th>prolongued_decelerations</th>\n",
              "      <th>abnormal_short_term_variability</th>\n",
              "      <th>mean_value_of_short_term_variability</th>\n",
              "      <th>percentage_of_time_with_abnormal_long_term_variability</th>\n",
              "      <th>mean_value_of_long_term_variability</th>\n",
              "      <th>histogram_width</th>\n",
              "      <th>histogram_min</th>\n",
              "      <th>histogram_max</th>\n",
              "      <th>histogram_number_of_peaks</th>\n",
              "      <th>histogram_number_of_zeroes</th>\n",
              "      <th>histogram_mode</th>\n",
              "      <th>histogram_mean</th>\n",
              "      <th>histogram_median</th>\n",
              "      <th>histogram_variance</th>\n",
              "      <th>histogram_tendency</th>\n",
              "      <th>fetal_health</th>\n",
              "    </tr>\n",
              "  </thead>\n",
              "  <tbody>\n",
              "    <tr>\n",
              "      <th>count</th>\n",
              "      <td>2113.000000</td>\n",
              "      <td>2113.000000</td>\n",
              "      <td>2113.000000</td>\n",
              "      <td>2113.000000</td>\n",
              "      <td>2113.000000</td>\n",
              "      <td>2113.000000</td>\n",
              "      <td>2113.000000</td>\n",
              "      <td>2113.000000</td>\n",
              "      <td>2113.000000</td>\n",
              "      <td>2113.000000</td>\n",
              "      <td>2113.000000</td>\n",
              "      <td>2113.000000</td>\n",
              "      <td>2113.000000</td>\n",
              "      <td>2113.000000</td>\n",
              "      <td>2113.000000</td>\n",
              "      <td>2113.000000</td>\n",
              "      <td>2113.000000</td>\n",
              "      <td>2113.000000</td>\n",
              "      <td>2113.000000</td>\n",
              "      <td>2113.000000</td>\n",
              "      <td>2113.000000</td>\n",
              "      <td>2113.000000</td>\n",
              "    </tr>\n",
              "    <tr>\n",
              "      <th>mean</th>\n",
              "      <td>133.304780</td>\n",
              "      <td>0.003188</td>\n",
              "      <td>0.009517</td>\n",
              "      <td>0.004387</td>\n",
              "      <td>0.001901</td>\n",
              "      <td>0.000003</td>\n",
              "      <td>0.000159</td>\n",
              "      <td>46.993848</td>\n",
              "      <td>1.335021</td>\n",
              "      <td>9.795078</td>\n",
              "      <td>8.166635</td>\n",
              "      <td>70.535258</td>\n",
              "      <td>93.564600</td>\n",
              "      <td>164.099858</td>\n",
              "      <td>4.077142</td>\n",
              "      <td>0.325603</td>\n",
              "      <td>137.454330</td>\n",
              "      <td>134.599621</td>\n",
              "      <td>138.089446</td>\n",
              "      <td>18.907241</td>\n",
              "      <td>0.318504</td>\n",
              "      <td>1.303833</td>\n",
              "    </tr>\n",
              "    <tr>\n",
              "      <th>std</th>\n",
              "      <td>9.837451</td>\n",
              "      <td>0.003871</td>\n",
              "      <td>0.046804</td>\n",
              "      <td>0.002941</td>\n",
              "      <td>0.002966</td>\n",
              "      <td>0.000057</td>\n",
              "      <td>0.000592</td>\n",
              "      <td>17.177782</td>\n",
              "      <td>0.884368</td>\n",
              "      <td>18.337073</td>\n",
              "      <td>5.632912</td>\n",
              "      <td>39.007706</td>\n",
              "      <td>29.562269</td>\n",
              "      <td>17.945175</td>\n",
              "      <td>2.951664</td>\n",
              "      <td>0.707771</td>\n",
              "      <td>16.402026</td>\n",
              "      <td>15.610422</td>\n",
              "      <td>14.478957</td>\n",
              "      <td>29.038766</td>\n",
              "      <td>0.611075</td>\n",
              "      <td>0.614279</td>\n",
              "    </tr>\n",
              "    <tr>\n",
              "      <th>min</th>\n",
              "      <td>106.000000</td>\n",
              "      <td>0.000000</td>\n",
              "      <td>0.000000</td>\n",
              "      <td>0.000000</td>\n",
              "      <td>0.000000</td>\n",
              "      <td>0.000000</td>\n",
              "      <td>0.000000</td>\n",
              "      <td>12.000000</td>\n",
              "      <td>0.200000</td>\n",
              "      <td>0.000000</td>\n",
              "      <td>0.000000</td>\n",
              "      <td>3.000000</td>\n",
              "      <td>50.000000</td>\n",
              "      <td>122.000000</td>\n",
              "      <td>0.000000</td>\n",
              "      <td>0.000000</td>\n",
              "      <td>60.000000</td>\n",
              "      <td>73.000000</td>\n",
              "      <td>77.000000</td>\n",
              "      <td>0.000000</td>\n",
              "      <td>-1.000000</td>\n",
              "      <td>1.000000</td>\n",
              "    </tr>\n",
              "    <tr>\n",
              "      <th>25%</th>\n",
              "      <td>126.000000</td>\n",
              "      <td>0.000000</td>\n",
              "      <td>0.000000</td>\n",
              "      <td>0.002000</td>\n",
              "      <td>0.000000</td>\n",
              "      <td>0.000000</td>\n",
              "      <td>0.000000</td>\n",
              "      <td>32.000000</td>\n",
              "      <td>0.700000</td>\n",
              "      <td>0.000000</td>\n",
              "      <td>4.600000</td>\n",
              "      <td>37.000000</td>\n",
              "      <td>67.000000</td>\n",
              "      <td>152.000000</td>\n",
              "      <td>2.000000</td>\n",
              "      <td>0.000000</td>\n",
              "      <td>129.000000</td>\n",
              "      <td>125.000000</td>\n",
              "      <td>129.000000</td>\n",
              "      <td>2.000000</td>\n",
              "      <td>0.000000</td>\n",
              "      <td>1.000000</td>\n",
              "    </tr>\n",
              "    <tr>\n",
              "      <th>50%</th>\n",
              "      <td>133.000000</td>\n",
              "      <td>0.002000</td>\n",
              "      <td>0.000000</td>\n",
              "      <td>0.005000</td>\n",
              "      <td>0.000000</td>\n",
              "      <td>0.000000</td>\n",
              "      <td>0.000000</td>\n",
              "      <td>49.000000</td>\n",
              "      <td>1.200000</td>\n",
              "      <td>0.000000</td>\n",
              "      <td>7.400000</td>\n",
              "      <td>68.000000</td>\n",
              "      <td>93.000000</td>\n",
              "      <td>162.000000</td>\n",
              "      <td>4.000000</td>\n",
              "      <td>0.000000</td>\n",
              "      <td>139.000000</td>\n",
              "      <td>136.000000</td>\n",
              "      <td>139.000000</td>\n",
              "      <td>7.000000</td>\n",
              "      <td>0.000000</td>\n",
              "      <td>1.000000</td>\n",
              "    </tr>\n",
              "    <tr>\n",
              "      <th>75%</th>\n",
              "      <td>140.000000</td>\n",
              "      <td>0.006000</td>\n",
              "      <td>0.003000</td>\n",
              "      <td>0.007000</td>\n",
              "      <td>0.003000</td>\n",
              "      <td>0.000000</td>\n",
              "      <td>0.000000</td>\n",
              "      <td>61.000000</td>\n",
              "      <td>1.700000</td>\n",
              "      <td>11.000000</td>\n",
              "      <td>10.800000</td>\n",
              "      <td>100.000000</td>\n",
              "      <td>120.000000</td>\n",
              "      <td>174.000000</td>\n",
              "      <td>6.000000</td>\n",
              "      <td>0.000000</td>\n",
              "      <td>148.000000</td>\n",
              "      <td>145.000000</td>\n",
              "      <td>148.000000</td>\n",
              "      <td>24.000000</td>\n",
              "      <td>1.000000</td>\n",
              "      <td>1.000000</td>\n",
              "    </tr>\n",
              "    <tr>\n",
              "      <th>max</th>\n",
              "      <td>160.000000</td>\n",
              "      <td>0.019000</td>\n",
              "      <td>0.481000</td>\n",
              "      <td>0.015000</td>\n",
              "      <td>0.015000</td>\n",
              "      <td>0.001000</td>\n",
              "      <td>0.005000</td>\n",
              "      <td>87.000000</td>\n",
              "      <td>7.000000</td>\n",
              "      <td>91.000000</td>\n",
              "      <td>50.700000</td>\n",
              "      <td>180.000000</td>\n",
              "      <td>159.000000</td>\n",
              "      <td>238.000000</td>\n",
              "      <td>18.000000</td>\n",
              "      <td>10.000000</td>\n",
              "      <td>187.000000</td>\n",
              "      <td>182.000000</td>\n",
              "      <td>186.000000</td>\n",
              "      <td>269.000000</td>\n",
              "      <td>1.000000</td>\n",
              "      <td>3.000000</td>\n",
              "    </tr>\n",
              "  </tbody>\n",
              "</table>\n",
              "</div>\n",
              "      <button class=\"colab-df-convert\" onclick=\"convertToInteractive('df-71082449-d844-4d81-8556-a8eecc060fba')\"\n",
              "              title=\"Convert this dataframe to an interactive table.\"\n",
              "              style=\"display:none;\">\n",
              "        \n",
              "  <svg xmlns=\"http://www.w3.org/2000/svg\" height=\"24px\"viewBox=\"0 0 24 24\"\n",
              "       width=\"24px\">\n",
              "    <path d=\"M0 0h24v24H0V0z\" fill=\"none\"/>\n",
              "    <path d=\"M18.56 5.44l.94 2.06.94-2.06 2.06-.94-2.06-.94-.94-2.06-.94 2.06-2.06.94zm-11 1L8.5 8.5l.94-2.06 2.06-.94-2.06-.94L8.5 2.5l-.94 2.06-2.06.94zm10 10l.94 2.06.94-2.06 2.06-.94-2.06-.94-.94-2.06-.94 2.06-2.06.94z\"/><path d=\"M17.41 7.96l-1.37-1.37c-.4-.4-.92-.59-1.43-.59-.52 0-1.04.2-1.43.59L10.3 9.45l-7.72 7.72c-.78.78-.78 2.05 0 2.83L4 21.41c.39.39.9.59 1.41.59.51 0 1.02-.2 1.41-.59l7.78-7.78 2.81-2.81c.8-.78.8-2.07 0-2.86zM5.41 20L4 18.59l7.72-7.72 1.47 1.35L5.41 20z\"/>\n",
              "  </svg>\n",
              "      </button>\n",
              "      \n",
              "  <style>\n",
              "    .colab-df-container {\n",
              "      display:flex;\n",
              "      flex-wrap:wrap;\n",
              "      gap: 12px;\n",
              "    }\n",
              "\n",
              "    .colab-df-convert {\n",
              "      background-color: #E8F0FE;\n",
              "      border: none;\n",
              "      border-radius: 50%;\n",
              "      cursor: pointer;\n",
              "      display: none;\n",
              "      fill: #1967D2;\n",
              "      height: 32px;\n",
              "      padding: 0 0 0 0;\n",
              "      width: 32px;\n",
              "    }\n",
              "\n",
              "    .colab-df-convert:hover {\n",
              "      background-color: #E2EBFA;\n",
              "      box-shadow: 0px 1px 2px rgba(60, 64, 67, 0.3), 0px 1px 3px 1px rgba(60, 64, 67, 0.15);\n",
              "      fill: #174EA6;\n",
              "    }\n",
              "\n",
              "    [theme=dark] .colab-df-convert {\n",
              "      background-color: #3B4455;\n",
              "      fill: #D2E3FC;\n",
              "    }\n",
              "\n",
              "    [theme=dark] .colab-df-convert:hover {\n",
              "      background-color: #434B5C;\n",
              "      box-shadow: 0px 1px 3px 1px rgba(0, 0, 0, 0.15);\n",
              "      filter: drop-shadow(0px 1px 2px rgba(0, 0, 0, 0.3));\n",
              "      fill: #FFFFFF;\n",
              "    }\n",
              "  </style>\n",
              "\n",
              "      <script>\n",
              "        const buttonEl =\n",
              "          document.querySelector('#df-71082449-d844-4d81-8556-a8eecc060fba button.colab-df-convert');\n",
              "        buttonEl.style.display =\n",
              "          google.colab.kernel.accessAllowed ? 'block' : 'none';\n",
              "\n",
              "        async function convertToInteractive(key) {\n",
              "          const element = document.querySelector('#df-71082449-d844-4d81-8556-a8eecc060fba');\n",
              "          const dataTable =\n",
              "            await google.colab.kernel.invokeFunction('convertToInteractive',\n",
              "                                                     [key], {});\n",
              "          if (!dataTable) return;\n",
              "\n",
              "          const docLinkHtml = 'Like what you see? Visit the ' +\n",
              "            '<a target=\"_blank\" href=https://colab.research.google.com/notebooks/data_table.ipynb>data table notebook</a>'\n",
              "            + ' to learn more about interactive tables.';\n",
              "          element.innerHTML = '';\n",
              "          dataTable['output_type'] = 'display_data';\n",
              "          await google.colab.output.renderOutput(dataTable, element);\n",
              "          const docLink = document.createElement('div');\n",
              "          docLink.innerHTML = docLinkHtml;\n",
              "          element.appendChild(docLink);\n",
              "        }\n",
              "      </script>\n",
              "    </div>\n",
              "  </div>\n",
              "  "
            ],
            "text/plain": [
              "       baseline value  accelerations  ...  histogram_tendency  fetal_health\n",
              "count     2113.000000    2113.000000  ...         2113.000000   2113.000000\n",
              "mean       133.304780       0.003188  ...            0.318504      1.303833\n",
              "std          9.837451       0.003871  ...            0.611075      0.614279\n",
              "min        106.000000       0.000000  ...           -1.000000      1.000000\n",
              "25%        126.000000       0.000000  ...            0.000000      1.000000\n",
              "50%        133.000000       0.002000  ...            0.000000      1.000000\n",
              "75%        140.000000       0.006000  ...            1.000000      1.000000\n",
              "max        160.000000       0.019000  ...            1.000000      3.000000\n",
              "\n",
              "[8 rows x 22 columns]"
            ]
          },
          "metadata": {},
          "execution_count": 7
        }
      ]
    },
    {
      "cell_type": "code",
      "source": [
        "fetal_df.fetal_health.value_counts()"
      ],
      "metadata": {
        "colab": {
          "base_uri": "https://localhost:8080/"
        },
        "id": "bVUFVZtDjviH",
        "outputId": "9e325264-eb37-4b89-9812-c0981cb76902"
      },
      "execution_count": 8,
      "outputs": [
        {
          "output_type": "execute_result",
          "data": {
            "text/plain": [
              "1.0    1646\n",
              "2.0     292\n",
              "3.0     175\n",
              "Name: fetal_health, dtype: int64"
            ]
          },
          "metadata": {},
          "execution_count": 8
        }
      ]
    },
    {
      "cell_type": "markdown",
      "source": [
        "As we can see many records are normal, and few are belonging to the two other classes. Let's draw a graph that represents the percentage for each type."
      ],
      "metadata": {
        "id": "rccORN9to4gh"
      }
    },
    {
      "cell_type": "code",
      "source": [
        "cases_df = fetal_df.copy(deep=True)\n",
        "cases = pd.DataFrame(cases_df['fetal_health'].replace(1.0,'Normal').replace(2.0,'Suspect').replace(3.0,'Pathological').value_counts())\n",
        "cases.reset_index(inplace=True)\n",
        "cases.plot(kind='pie', title='Graph representing the repartition of fetal health',y = 'fetal_health', \n",
        "          autopct='%1.1f%%', shadow=False, labels=cases['index'], legend = False, fontsize=14, figsize=(6,6))"
      ],
      "metadata": {
        "colab": {
          "base_uri": "https://localhost:8080/",
          "height": 391
        },
        "id": "7r7kg7uraX4N",
        "outputId": "a0934965-99f5-4a27-f8f6-ec88b9d5ccfc"
      },
      "execution_count": 9,
      "outputs": [
        {
          "output_type": "execute_result",
          "data": {
            "text/plain": [
              "<matplotlib.axes._subplots.AxesSubplot at 0x7fb33324e590>"
            ]
          },
          "metadata": {},
          "execution_count": 9
        },
        {
          "output_type": "display_data",
          "data": {
            "image/png": "[encoded data removed]",
            "text/plain": [
              "<Figure size 432x432 with 1 Axes>"
            ]
          },
          "metadata": {}
        }
      ]
    },
    {
      "cell_type": "markdown",
      "source": [
        "The target class, fetal health, is very unbalanced, so we decide to turn this into a binary classification problem to make the data easier to work with. We combine the two classes 2.0 and 3.0 corresponding respectively to Suspect and Pathological fetal health into a class called Distressed."
      ],
      "metadata": {
        "id": "T3LxA4OmpWhh"
      }
    },
    {
      "cell_type": "markdown",
      "source": [
        "###Turn problem into a binary classification"
      ],
      "metadata": {
        "id": "MBl4MhopglHx"
      }
    },
    {
      "cell_type": "code",
      "source": [
        "# engineering new categorical target column for Normal and Distressed fetal health\n",
        "fetal_df.loc[fetal_df['fetal_health']==1.000, 'target'] = 0.0 # Normal\n",
        "fetal_df.loc[fetal_df['fetal_health']==2.000, 'target'] = 1.0 # Distressed\n",
        "fetal_df.loc[fetal_df['fetal_health']==3.000, 'target'] = 1.0 # Distressed"
      ],
      "metadata": {
        "id": "03Q5fdTWnS16"
      },
      "execution_count": 10,
      "outputs": []
    },
    {
      "cell_type": "code",
      "source": [
        "fetal_df = fetal_df.drop(columns=['fetal_health'], axis=1)"
      ],
      "metadata": {
        "id": "WI2gTr4EnWMD"
      },
      "execution_count": 11,
      "outputs": []
    },
    {
      "cell_type": "code",
      "source": [
        "fetal_df.head()"
      ],
      "metadata": {
        "colab": {
          "base_uri": "https://localhost:8080/",
          "height": 287
        },
        "id": "NL4YVf2znYa-",
        "outputId": "13e65620-cc3e-4d3d-f0cc-1bd0181a7aeb"
      },
      "execution_count": 12,
      "outputs": [
        {
          "output_type": "execute_result",
          "data": {
            "text/html": [
              "\n",
              "  <div id=\"df-91ce93cf-80c5-4305-9a53-e601c3f591a8\">\n",
              "    <div class=\"colab-df-container\">\n",
              "      <div>\n",
              "<style scoped>\n",
              "    .dataframe tbody tr th:only-of-type {\n",
              "        vertical-align: middle;\n",
              "    }\n",
              "\n",
              "    .dataframe tbody tr th {\n",
              "        vertical-align: top;\n",
              "    }\n",
              "\n",
              "    .dataframe thead th {\n",
              "        text-align: right;\n",
              "    }\n",
              "</style>\n",
              "<table border=\"1\" class=\"dataframe\">\n",
              "  <thead>\n",
              "    <tr style=\"text-align: right;\">\n",
              "      <th></th>\n",
              "      <th>baseline value</th>\n",
              "      <th>accelerations</th>\n",
              "      <th>fetal_movement</th>\n",
              "      <th>uterine_contractions</th>\n",
              "      <th>light_decelerations</th>\n",
              "      <th>severe_decelerations</th>\n",
              "      <th>prolongued_decelerations</th>\n",
              "      <th>abnormal_short_term_variability</th>\n",
              "      <th>mean_value_of_short_term_variability</th>\n",
              "      <th>percentage_of_time_with_abnormal_long_term_variability</th>\n",
              "      <th>mean_value_of_long_term_variability</th>\n",
              "      <th>histogram_width</th>\n",
              "      <th>histogram_min</th>\n",
              "      <th>histogram_max</th>\n",
              "      <th>histogram_number_of_peaks</th>\n",
              "      <th>histogram_number_of_zeroes</th>\n",
              "      <th>histogram_mode</th>\n",
              "      <th>histogram_mean</th>\n",
              "      <th>histogram_median</th>\n",
              "      <th>histogram_variance</th>\n",
              "      <th>histogram_tendency</th>\n",
              "      <th>target</th>\n",
              "    </tr>\n",
              "  </thead>\n",
              "  <tbody>\n",
              "    <tr>\n",
              "      <th>0</th>\n",
              "      <td>120.0</td>\n",
              "      <td>0.000</td>\n",
              "      <td>0.0</td>\n",
              "      <td>0.000</td>\n",
              "      <td>0.000</td>\n",
              "      <td>0.0</td>\n",
              "      <td>0.0</td>\n",
              "      <td>73.0</td>\n",
              "      <td>0.5</td>\n",
              "      <td>43.0</td>\n",
              "      <td>2.4</td>\n",
              "      <td>64.0</td>\n",
              "      <td>62.0</td>\n",
              "      <td>126.0</td>\n",
              "      <td>2.0</td>\n",
              "      <td>0.0</td>\n",
              "      <td>120.0</td>\n",
              "      <td>137.0</td>\n",
              "      <td>121.0</td>\n",
              "      <td>73.0</td>\n",
              "      <td>1.0</td>\n",
              "      <td>1.0</td>\n",
              "    </tr>\n",
              "    <tr>\n",
              "      <th>1</th>\n",
              "      <td>132.0</td>\n",
              "      <td>0.006</td>\n",
              "      <td>0.0</td>\n",
              "      <td>0.006</td>\n",
              "      <td>0.003</td>\n",
              "      <td>0.0</td>\n",
              "      <td>0.0</td>\n",
              "      <td>17.0</td>\n",
              "      <td>2.1</td>\n",
              "      <td>0.0</td>\n",
              "      <td>10.4</td>\n",
              "      <td>130.0</td>\n",
              "      <td>68.0</td>\n",
              "      <td>198.0</td>\n",
              "      <td>6.0</td>\n",
              "      <td>1.0</td>\n",
              "      <td>141.0</td>\n",
              "      <td>136.0</td>\n",
              "      <td>140.0</td>\n",
              "      <td>12.0</td>\n",
              "      <td>0.0</td>\n",
              "      <td>0.0</td>\n",
              "    </tr>\n",
              "    <tr>\n",
              "      <th>2</th>\n",
              "      <td>133.0</td>\n",
              "      <td>0.003</td>\n",
              "      <td>0.0</td>\n",
              "      <td>0.008</td>\n",
              "      <td>0.003</td>\n",
              "      <td>0.0</td>\n",
              "      <td>0.0</td>\n",
              "      <td>16.0</td>\n",
              "      <td>2.1</td>\n",
              "      <td>0.0</td>\n",
              "      <td>13.4</td>\n",
              "      <td>130.0</td>\n",
              "      <td>68.0</td>\n",
              "      <td>198.0</td>\n",
              "      <td>5.0</td>\n",
              "      <td>1.0</td>\n",
              "      <td>141.0</td>\n",
              "      <td>135.0</td>\n",
              "      <td>138.0</td>\n",
              "      <td>13.0</td>\n",
              "      <td>0.0</td>\n",
              "      <td>0.0</td>\n",
              "    </tr>\n",
              "    <tr>\n",
              "      <th>3</th>\n",
              "      <td>134.0</td>\n",
              "      <td>0.003</td>\n",
              "      <td>0.0</td>\n",
              "      <td>0.008</td>\n",
              "      <td>0.003</td>\n",
              "      <td>0.0</td>\n",
              "      <td>0.0</td>\n",
              "      <td>16.0</td>\n",
              "      <td>2.4</td>\n",
              "      <td>0.0</td>\n",
              "      <td>23.0</td>\n",
              "      <td>117.0</td>\n",
              "      <td>53.0</td>\n",
              "      <td>170.0</td>\n",
              "      <td>11.0</td>\n",
              "      <td>0.0</td>\n",
              "      <td>137.0</td>\n",
              "      <td>134.0</td>\n",
              "      <td>137.0</td>\n",
              "      <td>13.0</td>\n",
              "      <td>1.0</td>\n",
              "      <td>0.0</td>\n",
              "    </tr>\n",
              "    <tr>\n",
              "      <th>4</th>\n",
              "      <td>132.0</td>\n",
              "      <td>0.007</td>\n",
              "      <td>0.0</td>\n",
              "      <td>0.008</td>\n",
              "      <td>0.000</td>\n",
              "      <td>0.0</td>\n",
              "      <td>0.0</td>\n",
              "      <td>16.0</td>\n",
              "      <td>2.4</td>\n",
              "      <td>0.0</td>\n",
              "      <td>19.9</td>\n",
              "      <td>117.0</td>\n",
              "      <td>53.0</td>\n",
              "      <td>170.0</td>\n",
              "      <td>9.0</td>\n",
              "      <td>0.0</td>\n",
              "      <td>137.0</td>\n",
              "      <td>136.0</td>\n",
              "      <td>138.0</td>\n",
              "      <td>11.0</td>\n",
              "      <td>1.0</td>\n",
              "      <td>0.0</td>\n",
              "    </tr>\n",
              "  </tbody>\n",
              "</table>\n",
              "</div>\n",
              "      <button class=\"colab-df-convert\" onclick=\"convertToInteractive('df-91ce93cf-80c5-4305-9a53-e601c3f591a8')\"\n",
              "              title=\"Convert this dataframe to an interactive table.\"\n",
              "              style=\"display:none;\">\n",
              "        \n",
              "  <svg xmlns=\"http://www.w3.org/2000/svg\" height=\"24px\"viewBox=\"0 0 24 24\"\n",
              "       width=\"24px\">\n",
              "    <path d=\"M0 0h24v24H0V0z\" fill=\"none\"/>\n",
              "    <path d=\"M18.56 5.44l.94 2.06.94-2.06 2.06-.94-2.06-.94-.94-2.06-.94 2.06-2.06.94zm-11 1L8.5 8.5l.94-2.06 2.06-.94-2.06-.94L8.5 2.5l-.94 2.06-2.06.94zm10 10l.94 2.06.94-2.06 2.06-.94-2.06-.94-.94-2.06-.94 2.06-2.06.94z\"/><path d=\"M17.41 7.96l-1.37-1.37c-.4-.4-.92-.59-1.43-.59-.52 0-1.04.2-1.43.59L10.3 9.45l-7.72 7.72c-.78.78-.78 2.05 0 2.83L4 21.41c.39.39.9.59 1.41.59.51 0 1.02-.2 1.41-.59l7.78-7.78 2.81-2.81c.8-.78.8-2.07 0-2.86zM5.41 20L4 18.59l7.72-7.72 1.47 1.35L5.41 20z\"/>\n",
              "  </svg>\n",
              "      </button>\n",
              "      \n",
              "  <style>\n",
              "    .colab-df-container {\n",
              "      display:flex;\n",
              "      flex-wrap:wrap;\n",
              "      gap: 12px;\n",
              "    }\n",
              "\n",
              "    .colab-df-convert {\n",
              "      background-color: #E8F0FE;\n",
              "      border: none;\n",
              "      border-radius: 50%;\n",
              "      cursor: pointer;\n",
              "      display: none;\n",
              "      fill: #1967D2;\n",
              "      height: 32px;\n",
              "      padding: 0 0 0 0;\n",
              "      width: 32px;\n",
              "    }\n",
              "\n",
              "    .colab-df-convert:hover {\n",
              "      background-color: #E2EBFA;\n",
              "      box-shadow: 0px 1px 2px rgba(60, 64, 67, 0.3), 0px 1px 3px 1px rgba(60, 64, 67, 0.15);\n",
              "      fill: #174EA6;\n",
              "    }\n",
              "\n",
              "    [theme=dark] .colab-df-convert {\n",
              "      background-color: #3B4455;\n",
              "      fill: #D2E3FC;\n",
              "    }\n",
              "\n",
              "    [theme=dark] .colab-df-convert:hover {\n",
              "      background-color: #434B5C;\n",
              "      box-shadow: 0px 1px 3px 1px rgba(0, 0, 0, 0.15);\n",
              "      filter: drop-shadow(0px 1px 2px rgba(0, 0, 0, 0.3));\n",
              "      fill: #FFFFFF;\n",
              "    }\n",
              "  </style>\n",
              "\n",
              "      <script>\n",
              "        const buttonEl =\n",
              "          document.querySelector('#df-91ce93cf-80c5-4305-9a53-e601c3f591a8 button.colab-df-convert');\n",
              "        buttonEl.style.display =\n",
              "          google.colab.kernel.accessAllowed ? 'block' : 'none';\n",
              "\n",
              "        async function convertToInteractive(key) {\n",
              "          const element = document.querySelector('#df-91ce93cf-80c5-4305-9a53-e601c3f591a8');\n",
              "          const dataTable =\n",
              "            await google.colab.kernel.invokeFunction('convertToInteractive',\n",
              "                                                     [key], {});\n",
              "          if (!dataTable) return;\n",
              "\n",
              "          const docLinkHtml = 'Like what you see? Visit the ' +\n",
              "            '<a target=\"_blank\" href=https://colab.research.google.com/notebooks/data_table.ipynb>data table notebook</a>'\n",
              "            + ' to learn more about interactive tables.';\n",
              "          element.innerHTML = '';\n",
              "          dataTable['output_type'] = 'display_data';\n",
              "          await google.colab.output.renderOutput(dataTable, element);\n",
              "          const docLink = document.createElement('div');\n",
              "          docLink.innerHTML = docLinkHtml;\n",
              "          element.appendChild(docLink);\n",
              "        }\n",
              "      </script>\n",
              "    </div>\n",
              "  </div>\n",
              "  "
            ],
            "text/plain": [
              "   baseline value  accelerations  ...  histogram_tendency  target\n",
              "0           120.0          0.000  ...                 1.0     1.0\n",
              "1           132.0          0.006  ...                 0.0     0.0\n",
              "2           133.0          0.003  ...                 0.0     0.0\n",
              "3           134.0          0.003  ...                 1.0     0.0\n",
              "4           132.0          0.007  ...                 1.0     0.0\n",
              "\n",
              "[5 rows x 22 columns]"
            ]
          },
          "metadata": {},
          "execution_count": 12
        }
      ]
    },
    {
      "cell_type": "code",
      "source": [
        "fetal_df.target.value_counts()"
      ],
      "metadata": {
        "colab": {
          "base_uri": "https://localhost:8080/"
        },
        "id": "t7sDIY1ToBOc",
        "outputId": "26c38f3e-1425-4c5e-b6f4-c37f83c86cb2"
      },
      "execution_count": 13,
      "outputs": [
        {
          "output_type": "execute_result",
          "data": {
            "text/plain": [
              "0.0    1646\n",
              "1.0     467\n",
              "Name: target, dtype: int64"
            ]
          },
          "metadata": {},
          "execution_count": 13
        }
      ]
    },
    {
      "cell_type": "code",
      "source": [
        "cases_df = fetal_df.copy(deep=True)\n",
        "cases = pd.DataFrame(cases_df['target'].replace(0.0,'Normal').replace(1.0,'Distressed').value_counts())\n",
        "cases.reset_index(inplace=True)\n",
        "cases.plot(kind='pie', title='Graph representing the repartition of fetal health (binary)',y = 'target', \n",
        "          autopct='%1.1f%%', shadow=False, labels=cases['index'], legend = False, fontsize=14, figsize=(6,6))"
      ],
      "metadata": {
        "colab": {
          "base_uri": "https://localhost:8080/",
          "height": 391
        },
        "id": "9QhokuhtrXs5",
        "outputId": "10299c45-147b-4564-b381-7ebb1f810942"
      },
      "execution_count": 14,
      "outputs": [
        {
          "output_type": "execute_result",
          "data": {
            "text/plain": [
              "<matplotlib.axes._subplots.AxesSubplot at 0x7fb33318f050>"
            ]
          },
          "metadata": {},
          "execution_count": 14
        },
        {
          "output_type": "display_data",
          "data": {
            "image/png": "[encoded data removed]",
            "text/plain": [
              "<Figure size 432x432 with 1 Axes>"
            ]
          },
          "metadata": {}
        }
      ]
    },
    {
      "cell_type": "markdown",
      "source": [
        "The target class 'target' is still unbalanced but less than previously."
      ],
      "metadata": {
        "id": "TKML-_z0HKXQ"
      }
    },
    {
      "cell_type": "markdown",
      "source": [
        "###Preparation train test"
      ],
      "metadata": {
        "id": "d9UlaEblgO2N"
      }
    },
    {
      "cell_type": "code",
      "source": [
        "#Input and Output\n",
        "input_df = fetal_df.drop(['target'],axis=1)\n",
        "output_df = fetal_df['target'].copy() "
      ],
      "metadata": {
        "id": "bcOqbPG0LX4W"
      },
      "execution_count": 15,
      "outputs": []
    },
    {
      "cell_type": "code",
      "source": [
        "# split into train/test sets : 70/30\n",
        "X_train_no, X_test_no, y_train, y_test = train_test_split(input_df, output_df, test_size=0.3, stratify=output_df, random_state=1) #same proportion of classes 0 and 1 in training and testing"
      ],
      "metadata": {
        "id": "TgAkFrpDLWXj"
      },
      "execution_count": 16,
      "outputs": []
    },
    {
      "cell_type": "code",
      "source": [
        "# scaling data to bring all features in the same standing\n",
        "scalar = StandardScaler() \n",
        "scalar.fit(X_train_no)\n",
        "X_train = scalar.transform(X_train_no)\n",
        "X_test = scalar.transform(X_test_no)"
      ],
      "metadata": {
        "id": "ycPtYLLNGKr3"
      },
      "execution_count": 17,
      "outputs": []
    },
    {
      "cell_type": "code",
      "source": [
        "# Evaluation functions \n",
        "\n",
        "def evaluation_training(y_train, y_pred):\n",
        "    \n",
        "    # Print Precision, Recall, F1 Score, and Accuracy metrics\n",
        "    print('Evaluation Metrics for training:')\n",
        "    print('Precision: %.3f' %precision_score(y_train, y_pred))\n",
        "    print('Recall: %.3f'%recall_score(y_train, y_pred))\n",
        "    print('F1 Score: %.3f' %f1_score(y_train, y_pred))\n",
        "    print('Accuracy: %.3f'%accuracy_score(y_train, y_pred))\n",
        "    print()\n",
        "\n",
        "def evaluation_testing(y_test, y_pred):\n",
        "    \n",
        "    # Print Precision, Recall, F1 Score, and Accuracy metrics\n",
        "    print('Evaluation Metrics for testing:')\n",
        "    print('Precision: %.3f' %precision_score(y_test, y_pred))\n",
        "    print('Recall: %.3f'%recall_score(y_test, y_pred))\n",
        "    print('F1 Score: %.3f' %f1_score(y_test, y_pred))\n",
        "    print('Accuracy: %.3f'%accuracy_score(y_test, y_pred))\n",
        "    \n",
        "    # Plot Confusion Matrix\n",
        "    print('\\nConfusion Matrix:')\n",
        "    print(' TN,  FP, FN, TP')\n",
        "    print(confusion_matrix(y_test, y_pred).ravel())\n",
        "\n",
        "    plt.subplots(figsize=(10,8))\n",
        "    cf_matrix = confusion_matrix(y_test, y_pred)\n",
        "    sns.heatmap(cf_matrix/np.sum(cf_matrix), cmap='Blues',annot = True, annot_kws = {'size':15})"
      ],
      "metadata": {
        "id": "3_MemN69Iu-d"
      },
      "execution_count": 18,
      "outputs": []
    },
    {
      "cell_type": "markdown",
      "source": [
        "## Feature selection"
      ],
      "metadata": {
        "id": "Hbad_zPJPLPi"
      }
    },
    {
      "cell_type": "markdown",
      "source": [
        "###Correlation matrix with heatmap"
      ],
      "metadata": {
        "id": "FUwKOjNOgff9"
      }
    },
    {
      "cell_type": "code",
      "source": [
        "# create a dataframe with X_train and y_train concatenated\n",
        "train_df = pd.DataFrame(X_train, columns=input_df.columns)\n",
        "train_df['target'] = y_train.to_list()\n",
        "train_df"
      ],
      "metadata": {
        "id": "nnOKi_c_QhV6",
        "colab": {
          "base_uri": "https://localhost:8080/",
          "height": 504
        },
        "outputId": "ff13a961-af08-4da5-b0a6-4fae2f256708"
      },
      "execution_count": 19,
      "outputs": [
        {
          "output_type": "execute_result",
          "data": {
            "text/html": [
              "\n",
              "  <div id=\"df-fb9f2f9d-e08d-4f10-aecd-822ed17006c2\">\n",
              "    <div class=\"colab-df-container\">\n",
              "      <div>\n",
              "<style scoped>\n",
              "    .dataframe tbody tr th:only-of-type {\n",
              "        vertical-align: middle;\n",
              "    }\n",
              "\n",
              "    .dataframe tbody tr th {\n",
              "        vertical-align: top;\n",
              "    }\n",
              "\n",
              "    .dataframe thead th {\n",
              "        text-align: right;\n",
              "    }\n",
              "</style>\n",
              "<table border=\"1\" class=\"dataframe\">\n",
              "  <thead>\n",
              "    <tr style=\"text-align: right;\">\n",
              "      <th></th>\n",
              "      <th>baseline value</th>\n",
              "      <th>accelerations</th>\n",
              "      <th>fetal_movement</th>\n",
              "      <th>uterine_contractions</th>\n",
              "      <th>light_decelerations</th>\n",
              "      <th>severe_decelerations</th>\n",
              "      <th>prolongued_decelerations</th>\n",
              "      <th>abnormal_short_term_variability</th>\n",
              "      <th>mean_value_of_short_term_variability</th>\n",
              "      <th>percentage_of_time_with_abnormal_long_term_variability</th>\n",
              "      <th>mean_value_of_long_term_variability</th>\n",
              "      <th>histogram_width</th>\n",
              "      <th>histogram_min</th>\n",
              "      <th>histogram_max</th>\n",
              "      <th>histogram_number_of_peaks</th>\n",
              "      <th>histogram_number_of_zeroes</th>\n",
              "      <th>histogram_mode</th>\n",
              "      <th>histogram_mean</th>\n",
              "      <th>histogram_median</th>\n",
              "      <th>histogram_variance</th>\n",
              "      <th>histogram_tendency</th>\n",
              "      <th>target</th>\n",
              "    </tr>\n",
              "  </thead>\n",
              "  <tbody>\n",
              "    <tr>\n",
              "      <th>0</th>\n",
              "      <td>-1.871485</td>\n",
              "      <td>1.496487</td>\n",
              "      <td>0.883424</td>\n",
              "      <td>0.224803</td>\n",
              "      <td>-0.638058</td>\n",
              "      <td>-0.052076</td>\n",
              "      <td>-0.267678</td>\n",
              "      <td>-1.126387</td>\n",
              "      <td>1.060000</td>\n",
              "      <td>-0.529116</td>\n",
              "      <td>0.712077</td>\n",
              "      <td>1.493861</td>\n",
              "      <td>-1.363640</td>\n",
              "      <td>0.988775</td>\n",
              "      <td>0.987814</td>\n",
              "      <td>-0.452782</td>\n",
              "      <td>-1.154615</td>\n",
              "      <td>-0.959777</td>\n",
              "      <td>-1.271954</td>\n",
              "      <td>-0.167893</td>\n",
              "      <td>-0.534040</td>\n",
              "      <td>0.0</td>\n",
              "    </tr>\n",
              "    <tr>\n",
              "      <th>1</th>\n",
              "      <td>-1.264639</td>\n",
              "      <td>2.274997</td>\n",
              "      <td>-0.031147</td>\n",
              "      <td>-1.121283</td>\n",
              "      <td>-0.638058</td>\n",
              "      <td>-0.052076</td>\n",
              "      <td>-0.267678</td>\n",
              "      <td>-0.436872</td>\n",
              "      <td>-0.047005</td>\n",
              "      <td>-0.529116</td>\n",
              "      <td>-0.293378</td>\n",
              "      <td>0.698727</td>\n",
              "      <td>0.286513</td>\n",
              "      <td>1.991524</td>\n",
              "      <td>0.987814</td>\n",
              "      <td>0.908325</td>\n",
              "      <td>-0.293147</td>\n",
              "      <td>-0.251471</td>\n",
              "      <td>-0.439525</td>\n",
              "      <td>-0.370709</td>\n",
              "      <td>-2.179550</td>\n",
              "      <td>0.0</td>\n",
              "    </tr>\n",
              "    <tr>\n",
              "      <th>2</th>\n",
              "      <td>-0.556652</td>\n",
              "      <td>-0.839043</td>\n",
              "      <td>0.008617</td>\n",
              "      <td>-0.111719</td>\n",
              "      <td>1.379805</td>\n",
              "      <td>-0.052076</td>\n",
              "      <td>3.130567</td>\n",
              "      <td>-1.413685</td>\n",
              "      <td>1.170701</td>\n",
              "      <td>-0.529116</td>\n",
              "      <td>0.157343</td>\n",
              "      <td>1.391263</td>\n",
              "      <td>-1.363640</td>\n",
              "      <td>0.765942</td>\n",
              "      <td>2.334646</td>\n",
              "      <td>-0.452782</td>\n",
              "      <td>0.322187</td>\n",
              "      <td>-0.895386</td>\n",
              "      <td>-0.508894</td>\n",
              "      <td>2.772932</td>\n",
              "      <td>-0.534040</td>\n",
              "      <td>0.0</td>\n",
              "    </tr>\n",
              "    <tr>\n",
              "      <th>3</th>\n",
              "      <td>-0.657793</td>\n",
              "      <td>-0.839043</td>\n",
              "      <td>-0.110675</td>\n",
              "      <td>-1.457804</td>\n",
              "      <td>-0.638058</td>\n",
              "      <td>-0.052076</td>\n",
              "      <td>-0.267678</td>\n",
              "      <td>0.942159</td>\n",
              "      <td>-0.932609</td>\n",
              "      <td>-0.310416</td>\n",
              "      <td>0.521387</td>\n",
              "      <td>0.467882</td>\n",
              "      <td>-1.060551</td>\n",
              "      <td>-0.738182</td>\n",
              "      <td>-0.022311</td>\n",
              "      <td>-0.452782</td>\n",
              "      <td>-0.539281</td>\n",
              "      <td>-0.444645</td>\n",
              "      <td>-0.578263</td>\n",
              "      <td>-0.607327</td>\n",
              "      <td>1.111471</td>\n",
              "      <td>1.0</td>\n",
              "    </tr>\n",
              "    <tr>\n",
              "      <th>4</th>\n",
              "      <td>1.466169</td>\n",
              "      <td>0.198970</td>\n",
              "      <td>-0.210085</td>\n",
              "      <td>0.224803</td>\n",
              "      <td>-0.638058</td>\n",
              "      <td>-0.052076</td>\n",
              "      <td>-0.267678</td>\n",
              "      <td>-0.379412</td>\n",
              "      <td>-0.489807</td>\n",
              "      <td>-0.091716</td>\n",
              "      <td>0.608064</td>\n",
              "      <td>-0.609396</td>\n",
              "      <td>1.094751</td>\n",
              "      <td>0.487400</td>\n",
              "      <td>0.314398</td>\n",
              "      <td>-0.452782</td>\n",
              "      <td>1.183655</td>\n",
              "      <td>1.358316</td>\n",
              "      <td>1.364071</td>\n",
              "      <td>-0.539721</td>\n",
              "      <td>-0.534040</td>\n",
              "      <td>0.0</td>\n",
              "    </tr>\n",
              "    <tr>\n",
              "      <th>...</th>\n",
              "      <td>...</td>\n",
              "      <td>...</td>\n",
              "      <td>...</td>\n",
              "      <td>...</td>\n",
              "      <td>...</td>\n",
              "      <td>...</td>\n",
              "      <td>...</td>\n",
              "      <td>...</td>\n",
              "      <td>...</td>\n",
              "      <td>...</td>\n",
              "      <td>...</td>\n",
              "      <td>...</td>\n",
              "      <td>...</td>\n",
              "      <td>...</td>\n",
              "      <td>...</td>\n",
              "      <td>...</td>\n",
              "      <td>...</td>\n",
              "      <td>...</td>\n",
              "      <td>...</td>\n",
              "      <td>...</td>\n",
              "      <td>...</td>\n",
              "      <td>...</td>\n",
              "    </tr>\n",
              "    <tr>\n",
              "      <th>1474</th>\n",
              "      <td>0.657041</td>\n",
              "      <td>-0.060533</td>\n",
              "      <td>-0.190203</td>\n",
              "      <td>0.897845</td>\n",
              "      <td>0.707184</td>\n",
              "      <td>-0.052076</td>\n",
              "      <td>-0.267678</td>\n",
              "      <td>0.999618</td>\n",
              "      <td>-0.157705</td>\n",
              "      <td>-0.529116</td>\n",
              "      <td>-0.414726</td>\n",
              "      <td>0.083140</td>\n",
              "      <td>0.050777</td>\n",
              "      <td>0.264567</td>\n",
              "      <td>0.651106</td>\n",
              "      <td>-0.452782</td>\n",
              "      <td>0.260654</td>\n",
              "      <td>0.134878</td>\n",
              "      <td>0.254166</td>\n",
              "      <td>-0.032683</td>\n",
              "      <td>-0.534040</td>\n",
              "      <td>0.0</td>\n",
              "    </tr>\n",
              "    <tr>\n",
              "      <th>1475</th>\n",
              "      <td>-0.758934</td>\n",
              "      <td>-0.839043</td>\n",
              "      <td>-0.210085</td>\n",
              "      <td>1.907409</td>\n",
              "      <td>-0.638058</td>\n",
              "      <td>-0.052076</td>\n",
              "      <td>-0.267678</td>\n",
              "      <td>-1.471144</td>\n",
              "      <td>0.174396</td>\n",
              "      <td>-0.529116</td>\n",
              "      <td>0.365368</td>\n",
              "      <td>-1.224984</td>\n",
              "      <td>0.690632</td>\n",
              "      <td>-1.518098</td>\n",
              "      <td>-1.032435</td>\n",
              "      <td>-0.452782</td>\n",
              "      <td>-0.539281</td>\n",
              "      <td>-0.444645</td>\n",
              "      <td>-0.578263</td>\n",
              "      <td>-0.607327</td>\n",
              "      <td>-0.534040</td>\n",
              "      <td>0.0</td>\n",
              "    </tr>\n",
              "    <tr>\n",
              "      <th>1476</th>\n",
              "      <td>-1.264639</td>\n",
              "      <td>2.015494</td>\n",
              "      <td>-0.210085</td>\n",
              "      <td>-0.448240</td>\n",
              "      <td>-0.638058</td>\n",
              "      <td>-0.052076</td>\n",
              "      <td>-0.267678</td>\n",
              "      <td>-0.781629</td>\n",
              "      <td>0.617198</td>\n",
              "      <td>-0.529116</td>\n",
              "      <td>-0.310713</td>\n",
              "      <td>1.750356</td>\n",
              "      <td>-1.161580</td>\n",
              "      <td>1.880108</td>\n",
              "      <td>2.334646</td>\n",
              "      <td>-0.452782</td>\n",
              "      <td>0.260654</td>\n",
              "      <td>0.134878</td>\n",
              "      <td>0.115428</td>\n",
              "      <td>-0.032683</td>\n",
              "      <td>-0.534040</td>\n",
              "      <td>0.0</td>\n",
              "    </tr>\n",
              "    <tr>\n",
              "      <th>1477</th>\n",
              "      <td>1.162746</td>\n",
              "      <td>-0.839043</td>\n",
              "      <td>-0.210085</td>\n",
              "      <td>-0.784761</td>\n",
              "      <td>-0.638058</td>\n",
              "      <td>-0.052076</td>\n",
              "      <td>-0.267678</td>\n",
              "      <td>0.137724</td>\n",
              "      <td>-0.821908</td>\n",
              "      <td>-0.365091</td>\n",
              "      <td>0.573393</td>\n",
              "      <td>-1.122386</td>\n",
              "      <td>1.566223</td>\n",
              "      <td>0.153151</td>\n",
              "      <td>-1.369143</td>\n",
              "      <td>-0.452782</td>\n",
              "      <td>1.306722</td>\n",
              "      <td>1.358316</td>\n",
              "      <td>1.364071</td>\n",
              "      <td>-0.539721</td>\n",
              "      <td>1.111471</td>\n",
              "      <td>1.0</td>\n",
              "    </tr>\n",
              "    <tr>\n",
              "      <th>1478</th>\n",
              "      <td>-2.377190</td>\n",
              "      <td>-0.060533</td>\n",
              "      <td>-0.190203</td>\n",
              "      <td>0.224803</td>\n",
              "      <td>-0.301747</td>\n",
              "      <td>-0.052076</td>\n",
              "      <td>-0.267678</td>\n",
              "      <td>0.999618</td>\n",
              "      <td>-0.489807</td>\n",
              "      <td>-0.529116</td>\n",
              "      <td>0.400039</td>\n",
              "      <td>-0.147706</td>\n",
              "      <td>-0.050253</td>\n",
              "      <td>-0.403932</td>\n",
              "      <td>0.651106</td>\n",
              "      <td>-0.452782</td>\n",
              "      <td>-1.708415</td>\n",
              "      <td>-1.346126</td>\n",
              "      <td>-1.757538</td>\n",
              "      <td>0.068725</td>\n",
              "      <td>-2.179550</td>\n",
              "      <td>0.0</td>\n",
              "    </tr>\n",
              "  </tbody>\n",
              "</table>\n",
              "<p>1479 rows × 22 columns</p>\n",
              "</div>\n",
              "      <button class=\"colab-df-convert\" onclick=\"convertToInteractive('df-fb9f2f9d-e08d-4f10-aecd-822ed17006c2')\"\n",
              "              title=\"Convert this dataframe to an interactive table.\"\n",
              "              style=\"display:none;\">\n",
              "        \n",
              "  <svg xmlns=\"http://www.w3.org/2000/svg\" height=\"24px\"viewBox=\"0 0 24 24\"\n",
              "       width=\"24px\">\n",
              "    <path d=\"M0 0h24v24H0V0z\" fill=\"none\"/>\n",
              "    <path d=\"M18.56 5.44l.94 2.06.94-2.06 2.06-.94-2.06-.94-.94-2.06-.94 2.06-2.06.94zm-11 1L8.5 8.5l.94-2.06 2.06-.94-2.06-.94L8.5 2.5l-.94 2.06-2.06.94zm10 10l.94 2.06.94-2.06 2.06-.94-2.06-.94-.94-2.06-.94 2.06-2.06.94z\"/><path d=\"M17.41 7.96l-1.37-1.37c-.4-.4-.92-.59-1.43-.59-.52 0-1.04.2-1.43.59L10.3 9.45l-7.72 7.72c-.78.78-.78 2.05 0 2.83L4 21.41c.39.39.9.59 1.41.59.51 0 1.02-.2 1.41-.59l7.78-7.78 2.81-2.81c.8-.78.8-2.07 0-2.86zM5.41 20L4 18.59l7.72-7.72 1.47 1.35L5.41 20z\"/>\n",
              "  </svg>\n",
              "      </button>\n",
              "      \n",
              "  <style>\n",
              "    .colab-df-container {\n",
              "      display:flex;\n",
              "      flex-wrap:wrap;\n",
              "      gap: 12px;\n",
              "    }\n",
              "\n",
              "    .colab-df-convert {\n",
              "      background-color: #E8F0FE;\n",
              "      border: none;\n",
              "      border-radius: 50%;\n",
              "      cursor: pointer;\n",
              "      display: none;\n",
              "      fill: #1967D2;\n",
              "      height: 32px;\n",
              "      padding: 0 0 0 0;\n",
              "      width: 32px;\n",
              "    }\n",
              "\n",
              "    .colab-df-convert:hover {\n",
              "      background-color: #E2EBFA;\n",
              "      box-shadow: 0px 1px 2px rgba(60, 64, 67, 0.3), 0px 1px 3px 1px rgba(60, 64, 67, 0.15);\n",
              "      fill: #174EA6;\n",
              "    }\n",
              "\n",
              "    [theme=dark] .colab-df-convert {\n",
              "      background-color: #3B4455;\n",
              "      fill: #D2E3FC;\n",
              "    }\n",
              "\n",
              "    [theme=dark] .colab-df-convert:hover {\n",
              "      background-color: #434B5C;\n",
              "      box-shadow: 0px 1px 3px 1px rgba(0, 0, 0, 0.15);\n",
              "      filter: drop-shadow(0px 1px 2px rgba(0, 0, 0, 0.3));\n",
              "      fill: #FFFFFF;\n",
              "    }\n",
              "  </style>\n",
              "\n",
              "      <script>\n",
              "        const buttonEl =\n",
              "          document.querySelector('#df-fb9f2f9d-e08d-4f10-aecd-822ed17006c2 button.colab-df-convert');\n",
              "        buttonEl.style.display =\n",
              "          google.colab.kernel.accessAllowed ? 'block' : 'none';\n",
              "\n",
              "        async function convertToInteractive(key) {\n",
              "          const element = document.querySelector('#df-fb9f2f9d-e08d-4f10-aecd-822ed17006c2');\n",
              "          const dataTable =\n",
              "            await google.colab.kernel.invokeFunction('convertToInteractive',\n",
              "                                                     [key], {});\n",
              "          if (!dataTable) return;\n",
              "\n",
              "          const docLinkHtml = 'Like what you see? Visit the ' +\n",
              "            '<a target=\"_blank\" href=https://colab.research.google.com/notebooks/data_table.ipynb>data table notebook</a>'\n",
              "            + ' to learn more about interactive tables.';\n",
              "          element.innerHTML = '';\n",
              "          dataTable['output_type'] = 'display_data';\n",
              "          await google.colab.output.renderOutput(dataTable, element);\n",
              "          const docLink = document.createElement('div');\n",
              "          docLink.innerHTML = docLinkHtml;\n",
              "          element.appendChild(docLink);\n",
              "        }\n",
              "      </script>\n",
              "    </div>\n",
              "  </div>\n",
              "  "
            ],
            "text/plain": [
              "      baseline value  accelerations  ...  histogram_tendency  target\n",
              "0          -1.871485       1.496487  ...           -0.534040     0.0\n",
              "1          -1.264639       2.274997  ...           -2.179550     0.0\n",
              "2          -0.556652      -0.839043  ...           -0.534040     0.0\n",
              "3          -0.657793      -0.839043  ...            1.111471     1.0\n",
              "4           1.466169       0.198970  ...           -0.534040     0.0\n",
              "...              ...            ...  ...                 ...     ...\n",
              "1474        0.657041      -0.060533  ...           -0.534040     0.0\n",
              "1475       -0.758934      -0.839043  ...           -0.534040     0.0\n",
              "1476       -1.264639       2.015494  ...           -0.534040     0.0\n",
              "1477        1.162746      -0.839043  ...            1.111471     1.0\n",
              "1478       -2.377190      -0.060533  ...           -2.179550     0.0\n",
              "\n",
              "[1479 rows x 22 columns]"
            ]
          },
          "metadata": {},
          "execution_count": 19
        }
      ]
    },
    {
      "cell_type": "markdown",
      "source": [
        "We look to the representation for each feature to have an idea about its distribution."
      ],
      "metadata": {
        "id": "LH-UF-KX4G5-"
      }
    },
    {
      "cell_type": "code",
      "source": [
        "train_df.iloc[:,:-1].hist(figsize=[15,20], layout=[7,3])"
      ],
      "metadata": {
        "colab": {
          "base_uri": "https://localhost:8080/",
          "height": 1000
        },
        "id": "tHZA_RKTbCo3",
        "outputId": "0690b080-ae91-48ae-e46f-a8ed519b356a"
      },
      "execution_count": 20,
      "outputs": [
        {
          "output_type": "execute_result",
          "data": {
            "text/plain": [
              "array([[<matplotlib.axes._subplots.AxesSubplot object at 0x7fb332cc0850>,\n",
              "        <matplotlib.axes._subplots.AxesSubplot object at 0x7fb332cd8690>,\n",
              "        <matplotlib.axes._subplots.AxesSubplot object at 0x7fb332c8cc90>],\n",
              "       [<matplotlib.axes._subplots.AxesSubplot object at 0x7fb332c4f2d0>,\n",
              "        <matplotlib.axes._subplots.AxesSubplot object at 0x7fb332c038d0>,\n",
              "        <matplotlib.axes._subplots.AxesSubplot object at 0x7fb332bb9ed0>],\n",
              "       [<matplotlib.axes._subplots.AxesSubplot object at 0x7fb332b7c590>,\n",
              "        <matplotlib.axes._subplots.AxesSubplot object at 0x7fb332b32ad0>,\n",
              "        <matplotlib.axes._subplots.AxesSubplot object at 0x7fb332b32b10>],\n",
              "       [<matplotlib.axes._subplots.AxesSubplot object at 0x7fb332af4250>,\n",
              "        <matplotlib.axes._subplots.AxesSubplot object at 0x7fb332a62d50>,\n",
              "        <matplotlib.axes._subplots.AxesSubplot object at 0x7fb332a24390>],\n",
              "       [<matplotlib.axes._subplots.AxesSubplot object at 0x7fb3329da990>,\n",
              "        <matplotlib.axes._subplots.AxesSubplot object at 0x7fb332a11f90>,\n",
              "        <matplotlib.axes._subplots.AxesSubplot object at 0x7fb3329d35d0>],\n",
              "       [<matplotlib.axes._subplots.AxesSubplot object at 0x7fb33298abd0>,\n",
              "        <matplotlib.axes._subplots.AxesSubplot object at 0x7fb33294e210>,\n",
              "        <matplotlib.axes._subplots.AxesSubplot object at 0x7fb332902810>],\n",
              "       [<matplotlib.axes._subplots.AxesSubplot object at 0x7fb3328b8e10>,\n",
              "        <matplotlib.axes._subplots.AxesSubplot object at 0x7fb3328807d0>,\n",
              "        <matplotlib.axes._subplots.AxesSubplot object at 0x7fb33282cad0>]],\n",
              "      dtype=object)"
            ]
          },
          "metadata": {},
          "execution_count": 20
        },
        {
          "output_type": "display_data",
          "data": {
            "image/png": "[encoded data removed]",
            "text/plain": [
              "<Figure size 1080x1440 with 21 Axes>"
            ]
          },
          "metadata": {
            "needs_background": "light"
          }
        }
      ]
    },
    {
      "cell_type": "markdown",
      "source": [
        "To know the influence for each feature on the fetal health we will compare the correlations of all features with target using a heatmap. <br>\n",
        "Collinearity is the state where two variables are highly correlated and contain similar information about the variance within a given dataset. To detect collinearity among variables, we create a correlation matrix and find variables with large absolute values."
      ],
      "metadata": {
        "id": "hFwtkNe0qC3I"
      }
    },
    {
      "cell_type": "code",
      "source": [
        "corr = train_df.corr() #correlation matrix\n",
        "\n",
        "# heatmap showing correlation between all features in pairs\n",
        "plt.figure(figsize=(20,20))\n",
        "cmap = sns.diverging_palette(240, 10, n=9, as_cmap=True)\n",
        "sns.heatmap(corr, annot=True, cmap=cmap, center=0.0, vmax=1)\n",
        "\n",
        "# heatmap showing correlation with target\n",
        "plt.figure(figsize=(4, 10))\n",
        "heatmap = sns.heatmap(corr[['target']].sort_values(by='target', ascending=True), vmin=-1, vmax=1, annot=True, cmap=cmap)\n",
        "heatmap.set_title('Features Correlating with target', fontdict={'fontsize':18}, pad=22)\n",
        "heatmap.set_ylim([0,22])"
      ],
      "metadata": {
        "colab": {
          "base_uri": "https://localhost:8080/",
          "height": 1000
        },
        "id": "WzkxT2WdvUD9",
        "outputId": "d5153b1c-313a-4af6-9435-9421730d5229"
      },
      "execution_count": 21,
      "outputs": [
        {
          "output_type": "execute_result",
          "data": {
            "text/plain": [
              "(0.0, 22.0)"
            ]
          },
          "metadata": {},
          "execution_count": 21
        },
        {
          "output_type": "display_data",
          "data": {
            "image/png": "[encoded data removed]",
            "text/plain": [
              "<Figure size 1440x1440 with 2 Axes>"
            ]
          },
          "metadata": {
            "needs_background": "light"
          }
        },
        {
          "output_type": "display_data",
          "data": {
            "image/png": "[encoded data removed]",
            "text/plain": [
              "<Figure size 288x720 with 2 Axes>"
            ]
          },
          "metadata": {
            "needs_background": "light"
          }
        }
      ]
    },
    {
      "cell_type": "markdown",
      "source": [
        "As we can see, there are many features that have negligible values for correlation with target. To train and test our models we may keep only features with high correlation with fetal health (|correlation| >= 0.15)."
      ],
      "metadata": {
        "id": "Q2FxcZ-ZqHWT"
      }
    },
    {
      "cell_type": "markdown",
      "source": [
        "Thus, we keep the following 10 best features : abnormal_short_term_variability, percentage_of_time_with_abnormal_long_term_variability, accelerations, prolongued_decelerations, uterine_contractions, baseline value,  mean_value_of_short_term_variability, histogram_min, mean_value_of_long_term_variability, histogram_width."
      ],
      "metadata": {
        "id": "dOpoGweorMwu"
      }
    },
    {
      "cell_type": "markdown",
      "source": [
        "We can also note that histogram_median, histogram_mode and histogram_mean have high correlations two by two, which means they are dependent. Thus, if we choose one of them, we have to drop the two others as we want to consider only independent features for a model. "
      ],
      "metadata": {
        "id": "H7_oxnSG605T"
      }
    },
    {
      "cell_type": "code",
      "source": [
        "# Create new dataframes with features selection for train and test sets\n",
        "test_df = pd.DataFrame(X_test, columns=input_df.columns)\n",
        "X_train_heatmap_fs_df = train_df[['abnormal_short_term_variability', 'percentage_of_time_with_abnormal_long_term_variability', 'accelerations', 'prolongued_decelerations', 'uterine_contractions',  'baseline value', 'mean_value_of_short_term_variability', 'histogram_min', 'mean_value_of_long_term_variability', 'histogram_width']].copy()\n",
        "X_test_heatmap_fs_df = test_df[['abnormal_short_term_variability', 'percentage_of_time_with_abnormal_long_term_variability', 'accelerations', 'prolongued_decelerations', 'uterine_contractions',  'baseline value', 'mean_value_of_short_term_variability', 'histogram_min', 'mean_value_of_long_term_variability', 'histogram_width']].copy()\n",
        "print(X_train_heatmap_fs_df.shape)\n",
        "print(X_test_heatmap_fs_df.shape)"
      ],
      "metadata": {
        "id": "SnYsrLIyDGJ7",
        "colab": {
          "base_uri": "https://localhost:8080/"
        },
        "outputId": "b20e828c-b75f-45a0-f4b0-d227d57c6842"
      },
      "execution_count": 22,
      "outputs": [
        {
          "output_type": "stream",
          "name": "stdout",
          "text": [
            "(1479, 10)\n",
            "(634, 10)\n"
          ]
        }
      ]
    },
    {
      "cell_type": "markdown",
      "source": [
        "Thanks to correlation matrix, we were able to select 10 best features out of 21."
      ],
      "metadata": {
        "id": "ncTSFYr5HxnO"
      }
    },
    {
      "cell_type": "markdown",
      "source": [
        "### Filter method: Univariate selection with ANOVA"
      ],
      "metadata": {
        "id": "gaN9boPfLaKh"
      }
    },
    {
      "cell_type": "markdown",
      "source": [
        "Now, we implement a filter method of feature selection: ANOVA (analysis of variance). In this method, we compare each feature to the target variable to see if there is any statistically significant relationship between them which gives each feature a score, and we do this comparison ignoring the other features so it is an univariate selection. Then, we select only features with top scores."
      ],
      "metadata": {
        "id": "_02LfHvpOBt5"
      }
    },
    {
      "cell_type": "code",
      "source": [
        "# feature selection with ANOVA\n",
        "anova_fs = SelectKBest(score_func=f_classif, k=10) # select a subset of features (k=10)\n",
        "anova_fs.fit(X_train, y_train)\t# learn relationship from training data\n",
        "X_train_anova_fs = anova_fs.transform(X_train) # transform train input data\n",
        "X_test_anova_fs = anova_fs.transform(X_test) # transform test input data\n",
        "\n",
        "# scores for the features\n",
        "dfscores = pd.DataFrame(anova_fs.scores_)\n",
        "dfcolumns = pd.DataFrame(input_df.columns)\n",
        "# concat two dataframes for better visualization \n",
        "featureScores = pd.concat([dfcolumns,dfscores],axis=1)\n",
        "featureScores.columns = ['Features','Score']  # naming the dataframe columns\n",
        "print(featureScores.nlargest(len(anova_fs.scores_),'Score'))  # print features order by scores\n",
        "\n",
        "# plot the scores\n",
        "plt.bar([i for i in range(len(anova_fs.scores_))], anova_fs.scores_)\n",
        "plt.show()"
      ],
      "metadata": {
        "colab": {
          "base_uri": "https://localhost:8080/",
          "height": 679
        },
        "id": "FjIL_Q3WLhZc",
        "outputId": "ec7c6e0c-050a-4ef2-ea1f-8506de97426e"
      },
      "execution_count": 23,
      "outputs": [
        {
          "output_type": "stream",
          "name": "stdout",
          "text": [
            "                                             Features       Score\n",
            "7                     abnormal_short_term_variability  535.979823\n",
            "9   percentage_of_time_with_abnormal_long_term_var...  489.447318\n",
            "1                                       accelerations  290.810662\n",
            "6                            prolongued_decelerations  181.459282\n",
            "3                                uterine_contractions  118.762758\n",
            "0                                      baseline value  117.032170\n",
            "8                mean_value_of_short_term_variability   86.324814\n",
            "12                                      histogram_min   41.248764\n",
            "10                mean_value_of_long_term_variability   36.347936\n",
            "11                                    histogram_width   35.422813\n",
            "16                                     histogram_mode    8.484878\n",
            "19                                 histogram_variance    7.750158\n",
            "14                          histogram_number_of_peaks    6.941112\n",
            "5                                severe_decelerations    6.535168\n",
            "4                                 light_decelerations    5.424254\n",
            "13                                      histogram_max    5.287599\n",
            "2                                      fetal_movement    4.117833\n",
            "20                                 histogram_tendency    2.432937\n",
            "17                                     histogram_mean    1.762260\n",
            "18                                   histogram_median    1.032805\n",
            "15                         histogram_number_of_zeroes    0.844427\n"
          ]
        },
        {
          "output_type": "display_data",
          "data": {
            "image/png": "[encoded data removed]",
            "text/plain": [
              "<Figure size 432x288 with 1 Axes>"
            ]
          },
          "metadata": {
            "needs_background": "light"
          }
        }
      ]
    },
    {
      "cell_type": "markdown",
      "source": [
        "We used SelectKBest with a f_classif scoring metric that evaluates the linear correlation between the features. The graph shows the importance of each feature. We can see that only 10 features have a score >30, others have a score below 10. Thus, we can choose k=10 (keep only 10 best features). "
      ],
      "metadata": {
        "id": "mlFFJQAe9nw0"
      }
    },
    {
      "cell_type": "code",
      "source": [
        "print(\"X_train_anova_fs shape\", X_train_anova_fs.shape)\n",
        "print(\"X_test_anova_fs shape\", X_test_anova_fs.shape)"
      ],
      "metadata": {
        "id": "2nyLtDBNPKCr",
        "colab": {
          "base_uri": "https://localhost:8080/"
        },
        "outputId": "7ef76881-7027-4146-9cc7-163546239d02"
      },
      "execution_count": 24,
      "outputs": [
        {
          "output_type": "stream",
          "name": "stdout",
          "text": [
            "X_train_anova_fs shape (1479, 10)\n",
            "X_test_anova_fs shape (634, 10)\n"
          ]
        }
      ]
    },
    {
      "cell_type": "code",
      "source": [
        "# List of top 10 most important features\n",
        "mask = anova_fs.get_support() #list of booleans\n",
        "new_features = [] # The list of 10 best features\n",
        "feature_names = list(input_df.columns.values)\n",
        "\n",
        "for bool, feature in zip(mask, feature_names):\n",
        "    if bool:\n",
        "        new_features.append(feature)\n",
        "print(new_features)"
      ],
      "metadata": {
        "id": "VKLhpOVlPP0a",
        "colab": {
          "base_uri": "https://localhost:8080/"
        },
        "outputId": "21e29019-aa84-4020-a82f-77f41e3206b7"
      },
      "execution_count": 25,
      "outputs": [
        {
          "output_type": "stream",
          "name": "stdout",
          "text": [
            "['baseline value', 'accelerations', 'uterine_contractions', 'prolongued_decelerations', 'abnormal_short_term_variability', 'mean_value_of_short_term_variability', 'percentage_of_time_with_abnormal_long_term_variability', 'mean_value_of_long_term_variability', 'histogram_width', 'histogram_min']\n"
          ]
        }
      ]
    },
    {
      "cell_type": "code",
      "source": [
        "# Create new dataframes with features selection for train and test sets\n",
        "X_train_anova_fs_df = train_df[['baseline value', 'accelerations', 'uterine_contractions', 'prolongued_decelerations', 'abnormal_short_term_variability', 'mean_value_of_short_term_variability', 'percentage_of_time_with_abnormal_long_term_variability', 'mean_value_of_long_term_variability', 'histogram_width', 'histogram_min']].copy()\n",
        "X_test_anova_fs_df = test_df[['baseline value', 'accelerations', 'uterine_contractions', 'prolongued_decelerations', 'abnormal_short_term_variability', 'mean_value_of_short_term_variability', 'percentage_of_time_with_abnormal_long_term_variability', 'mean_value_of_long_term_variability', 'histogram_width', 'histogram_min']].copy()\n",
        "print(X_train_anova_fs_df.shape)\n",
        "print(X_test_anova_fs_df.shape)"
      ],
      "metadata": {
        "colab": {
          "base_uri": "https://localhost:8080/"
        },
        "id": "Zg6zKgvGPaJC",
        "outputId": "c2f2fba4-2c79-4055-d0f3-a07b0833284b"
      },
      "execution_count": 26,
      "outputs": [
        {
          "output_type": "stream",
          "name": "stdout",
          "text": [
            "(1479, 10)\n",
            "(634, 10)\n"
          ]
        }
      ]
    },
    {
      "cell_type": "markdown",
      "source": [
        "By performing features selection through the univariate selection ANOVA, we  selected the same 10 best features out of 21 as with the correlation matrix."
      ],
      "metadata": {
        "id": "dBnE47t6IL4j"
      }
    },
    {
      "cell_type": "markdown",
      "source": [
        "### Wrapper method: Recursive feature elimination with cross-validation (RFECV)"
      ],
      "metadata": {
        "id": "deicvL5xQR7y"
      }
    },
    {
      "cell_type": "markdown",
      "source": [
        "Now, we implement a wrapper method for feature selection: RFECV. A wrapper method needs one machine learning algorithm and uses its performance as evaluation criteria to select features. Here we try with Logistic Regression and Random Forest. Features are selected by recursively taking a smaller and smaller subset of features."
      ],
      "metadata": {
        "id": "6EnNNTY7CyzE"
      }
    },
    {
      "cell_type": "markdown",
      "source": [
        "####With Logistic Regression"
      ],
      "metadata": {
        "id": "B4QIaCX_MezH"
      }
    },
    {
      "cell_type": "code",
      "source": [
        "# Create the RFE object and compute a cross-validated score using Logistic Regression\n",
        "min_features_to_select = 2\n",
        "rfecv = RFECV(\n",
        "    estimator=LogisticRegression(),\n",
        "    step=1,\n",
        "    cv=StratifiedKFold(5),\n",
        "    scoring=\"recall\",\n",
        "    min_features_to_select=min_features_to_select,\n",
        ")\n",
        "rfecv.fit(X_train, y_train)\n",
        "\n",
        "print(\"Optimal number of features : %d\" % rfecv.n_features_)\n",
        "\n",
        "# Plot number of features VS. cross-validation scores\n",
        "plt.figure()\n",
        "plt.xlabel(\"Number of features selected\")\n",
        "plt.ylabel(\"Cross validation score (recall)\")\n",
        "plt.plot(\n",
        "    range(min_features_to_select, len(rfecv.grid_scores_) + min_features_to_select),\n",
        "    rfecv.grid_scores_,\n",
        ")\n",
        "plt.show()"
      ],
      "metadata": {
        "colab": {
          "base_uri": "https://localhost:8080/",
          "height": 356
        },
        "id": "cp31KlM5QQnz",
        "outputId": "9988dae5-c32a-48b7-dc6e-7fe93c63bc21"
      },
      "execution_count": 27,
      "outputs": [
        {
          "output_type": "stream",
          "name": "stdout",
          "text": [
            "Optimal number of features : 8\n"
          ]
        },
        {
          "output_type": "stream",
          "name": "stderr",
          "text": [
            "/usr/local/lib/python3.7/dist-packages/sklearn/utils/deprecation.py:103: FutureWarning: The `grid_scores_` attribute is deprecated in version 1.0 in favor of `cv_results_` and will be removed in version 1.2.\n",
            "  warnings.warn(msg, category=FutureWarning)\n"
          ]
        },
        {
          "output_type": "display_data",
          "data": {
            "image/png": "[encoded data removed]",
            "text/plain": [
              "<Figure size 432x288 with 1 Axes>"
            ]
          },
          "metadata": {
            "needs_background": "light"
          }
        }
      ]
    },
    {
      "cell_type": "code",
      "source": [
        "# List of top 8 most important features\n",
        "mask = rfecv.support_.tolist() #list of booleans\n",
        "new_features = [] # The list of 8 best features\n",
        "feature_names = list(input_df.columns.values)\n",
        "\n",
        "for bool, feature in zip(mask, feature_names):\n",
        "    if bool:\n",
        "        new_features.append(feature)\n",
        "print(new_features)"
      ],
      "metadata": {
        "colab": {
          "base_uri": "https://localhost:8080/"
        },
        "id": "yYgEVpH5ESfF",
        "outputId": "796efb8f-f663-43f6-b131-84265655a3f4"
      },
      "execution_count": 28,
      "outputs": [
        {
          "output_type": "stream",
          "name": "stdout",
          "text": [
            "['accelerations', 'uterine_contractions', 'prolongued_decelerations', 'abnormal_short_term_variability', 'histogram_max', 'histogram_mode', 'histogram_mean', 'histogram_variance']\n"
          ]
        }
      ]
    },
    {
      "cell_type": "markdown",
      "source": [
        "By performing feature selection with RFECV using Logistic Regression, the optimal number of features found is 8. Among those 8 features, 4 are in the 10 best features obtained with correlation matrix and ANOVA methods: 'accelerations', 'uterine_contractions', 'prolongued_decelerations', 'abnormal_short_term_variability'. <br>\n",
        "Because 'histogram_mode' and 'histogram_mean' are highly correlated (as we saw with the heatmap), we can drop one of them, let's say 'histogram_mean'. This leaves us with 7 features out of 21. <br>\n",
        "We notice that 'percentage_of_time_with_abnormal_long_term_variability' is not among the selected features using this method although it was the second most important feature with ANOVA."
      ],
      "metadata": {
        "id": "X2ECyN8BLGNj"
      }
    },
    {
      "cell_type": "code",
      "source": [
        "# Create new dataframes with features selection for train and test sets\n",
        "X_train_rfecv_fs_df = train_df[['accelerations', 'uterine_contractions', 'prolongued_decelerations', 'abnormal_short_term_variability', 'histogram_max', 'histogram_mode', 'histogram_variance']].copy()\n",
        "X_test_rfecv_fs_df = test_df[['accelerations', 'uterine_contractions', 'prolongued_decelerations', 'abnormal_short_term_variability', 'histogram_max', 'histogram_mode', 'histogram_variance']].copy()\n",
        "print(X_train_rfecv_fs_df.shape)\n",
        "print(X_test_rfecv_fs_df.shape)"
      ],
      "metadata": {
        "colab": {
          "base_uri": "https://localhost:8080/"
        },
        "id": "NwKJGPE-QgDG",
        "outputId": "082b6c3e-55b4-401c-fcdb-2af06a837988"
      },
      "execution_count": 29,
      "outputs": [
        {
          "output_type": "stream",
          "name": "stdout",
          "text": [
            "(1479, 7)\n",
            "(634, 7)\n"
          ]
        }
      ]
    },
    {
      "cell_type": "markdown",
      "source": [
        "####With Random Forest"
      ],
      "metadata": {
        "id": "TUvzCmDEMTKF"
      }
    },
    {
      "cell_type": "code",
      "source": [
        "# Create the RFE object and compute a cross-validated score using Random Forest\n",
        "min_features_to_select = 2\n",
        "rfecv = RFECV(\n",
        "    estimator=RandomForestClassifier(random_state=1),\n",
        "    step=1,\n",
        "    cv=StratifiedKFold(5),\n",
        "    scoring=\"recall\",\n",
        "    min_features_to_select=min_features_to_select,\n",
        ")\n",
        "rfecv.fit(X_train, y_train)\n",
        "\n",
        "print(\"Optimal number of features : %d\" % rfecv.n_features_)\n",
        "\n",
        "# Plot number of features VS. cross-validation scores\n",
        "plt.figure()\n",
        "plt.xlabel(\"Number of features selected\")\n",
        "plt.ylabel(\"Cross validation score (recall)\")\n",
        "plt.plot(\n",
        "    range(min_features_to_select, len(rfecv.grid_scores_) + min_features_to_select),\n",
        "    rfecv.grid_scores_,\n",
        ")\n",
        "plt.show()"
      ],
      "metadata": {
        "colab": {
          "base_uri": "https://localhost:8080/",
          "height": 356
        },
        "id": "r0djYs0rL8rB",
        "outputId": "1e407496-7091-4dfe-a7fc-f9561fb2ffdc"
      },
      "execution_count": 30,
      "outputs": [
        {
          "output_type": "stream",
          "name": "stdout",
          "text": [
            "Optimal number of features : 13\n"
          ]
        },
        {
          "output_type": "stream",
          "name": "stderr",
          "text": [
            "/usr/local/lib/python3.7/dist-packages/sklearn/utils/deprecation.py:103: FutureWarning: The `grid_scores_` attribute is deprecated in version 1.0 in favor of `cv_results_` and will be removed in version 1.2.\n",
            "  warnings.warn(msg, category=FutureWarning)\n"
          ]
        },
        {
          "output_type": "display_data",
          "data": {
            "image/png": "[encoded data removed]",
            "text/plain": [
              "<Figure size 432x288 with 1 Axes>"
            ]
          },
          "metadata": {
            "needs_background": "light"
          }
        }
      ]
    },
    {
      "cell_type": "code",
      "source": [
        "# List of top 13 most important features\n",
        "mask = rfecv.support_.tolist() #list of booleans\n",
        "new_features = [] # The list of 13 best features\n",
        "feature_names = list(input_df.columns.values)\n",
        "\n",
        "for bool, feature in zip(mask, feature_names):\n",
        "    if bool:\n",
        "        new_features.append(feature)\n",
        "print(new_features)"
      ],
      "metadata": {
        "colab": {
          "base_uri": "https://localhost:8080/"
        },
        "id": "a4AkEAsJMqKM",
        "outputId": "1193076d-5d04-4582-ade0-92f6d2e553d8"
      },
      "execution_count": 31,
      "outputs": [
        {
          "output_type": "stream",
          "name": "stdout",
          "text": [
            "['baseline value', 'accelerations', 'uterine_contractions', 'prolongued_decelerations', 'abnormal_short_term_variability', 'mean_value_of_short_term_variability', 'percentage_of_time_with_abnormal_long_term_variability', 'mean_value_of_long_term_variability', 'histogram_width', 'histogram_min', 'histogram_mode', 'histogram_mean', 'histogram_median']\n"
          ]
        }
      ]
    },
    {
      "cell_type": "markdown",
      "source": [
        "By performing feature selection with RFECV using Random Forest, the optimal number of features found is 13. We obtained the same 10 features as in correlation matrix and ANOVA methods, plus 'histogram_mode', 'histogram_mean', 'histogram_median'. But as these three features are highly correlated, we can choose only 'histogram_mode'. This leaves us with 11 features out of 21. <br>\n",
        "As there is only one more feature than the selected features with ANOVA, we will refer to the features selection obtained with ANOVA to compare prediction from different models with this features selection method."
      ],
      "metadata": {
        "id": "GvUmHd_jMeum"
      }
    },
    {
      "cell_type": "markdown",
      "source": [
        "###Intrinsic method: Decision tree"
      ],
      "metadata": {
        "id": "-FnwXea6QFGM"
      }
    },
    {
      "cell_type": "markdown",
      "source": [
        "Feature selection is naturally incorporated with the modeling process of some machine learning algorithms, for instance decision tree. This is why it is a intrinsic method of feature selection."
      ],
      "metadata": {
        "id": "5uSutDHhOrLH"
      }
    },
    {
      "cell_type": "code",
      "source": [
        "tree = DecisionTreeClassifier(random_state=1)\n",
        "tree.fit(X_train,y_train)\n",
        "\n",
        "# GridSearch with CV\n",
        "tuned_parameters = {'max_depth':range(3,20)}\n",
        "tree_clf = GridSearchCV(tree, tuned_parameters, n_jobs=4, cv=5, scoring='recall')\n",
        "tree_clf.fit(X_train, y_train)\n",
        "\n",
        "# Prediction\n",
        "tree_training = tree_clf.predict(X_train)\n",
        "tree_testing = tree_clf.predict(X_test)\n",
        "\n",
        "# Evaluation\n",
        "evaluation_training(y_train, tree_training)\n",
        "evaluation_testing(y_test, tree_testing)"
      ],
      "metadata": {
        "id": "xsHlTHUHQRGC",
        "colab": {
          "base_uri": "https://localhost:8080/",
          "height": 0
        },
        "outputId": "808c17c3-bc1b-4184-d50d-c63f37bf63dc"
      },
      "execution_count": 32,
      "outputs": [
        {
          "output_type": "stream",
          "name": "stdout",
          "text": [
            "Evaluation Metrics for training:\n",
            "Precision: 0.982\n",
            "Recall: 0.976\n",
            "F1 Score: 0.979\n",
            "Accuracy: 0.991\n",
            "\n",
            "Evaluation Metrics for testing:\n",
            "Precision: 0.806\n",
            "Recall: 0.829\n",
            "F1 Score: 0.817\n",
            "Accuracy: 0.918\n",
            "\n",
            "Confusion Matrix:\n",
            " TN,  FP, FN, TP\n",
            "[466  28  24 116]\n"
          ]
        },
        {
          "output_type": "display_data",
          "data": {
            "image/png": "[encoded data removed]",
            "text/plain": [
              "<Figure size 720x576 with 2 Axes>"
            ]
          },
          "metadata": {
            "needs_background": "light"
          }
        }
      ]
    },
    {
      "cell_type": "code",
      "source": [
        "print(tree_clf.best_estimator_)\n",
        "print(tree_clf.best_score_)"
      ],
      "metadata": {
        "colab": {
          "base_uri": "https://localhost:8080/"
        },
        "id": "CxUmhgc1SARY",
        "outputId": "fa5b7073-2f03-4aa4-f927-753ef8ef1011"
      },
      "execution_count": 33,
      "outputs": [
        {
          "output_type": "stream",
          "name": "stdout",
          "text": [
            "DecisionTreeClassifier(max_depth=12, random_state=1)\n",
            "0.8468065268065269\n"
          ]
        }
      ]
    },
    {
      "cell_type": "code",
      "source": [
        "dfscores = pd.DataFrame(tree.feature_importances_)\n",
        "dfcolumns = pd.DataFrame(input_df.columns)\n",
        "#concat two dataframes for better visualization \n",
        "featureScores = pd.concat([dfcolumns,dfscores],axis=1)\n",
        "featureScores.columns = ['Features','Score']  #naming the dataframe columns\n",
        "print(featureScores.nlargest(10,'Score'))  #print 10 best features"
      ],
      "metadata": {
        "id": "6O4M1qbmQcPL",
        "colab": {
          "base_uri": "https://localhost:8080/"
        },
        "outputId": "d0f8f9d6-f0de-42f7-cdc7-6817f02d0dc8"
      },
      "execution_count": 34,
      "outputs": [
        {
          "output_type": "stream",
          "name": "stdout",
          "text": [
            "                                             Features     Score\n",
            "7                     abnormal_short_term_variability  0.363095\n",
            "9   percentage_of_time_with_abnormal_long_term_var...  0.156748\n",
            "6                            prolongued_decelerations  0.111475\n",
            "17                                     histogram_mean  0.085846\n",
            "0                                      baseline value  0.052336\n",
            "8                mean_value_of_short_term_variability  0.043807\n",
            "12                                      histogram_min  0.036002\n",
            "1                                       accelerations  0.030442\n",
            "18                                   histogram_median  0.020018\n",
            "11                                    histogram_width  0.018730\n"
          ]
        }
      ]
    },
    {
      "cell_type": "code",
      "source": [
        "# List of 10 most important features\n",
        "featureScores.nlargest(10,'Score')['Features'].tolist()"
      ],
      "metadata": {
        "colab": {
          "base_uri": "https://localhost:8080/"
        },
        "id": "ygTUQDjrgyj0",
        "outputId": "4fedf780-a2ae-454b-81ae-409edfe736ea"
      },
      "execution_count": 35,
      "outputs": [
        {
          "output_type": "execute_result",
          "data": {
            "text/plain": [
              "['abnormal_short_term_variability',\n",
              " 'percentage_of_time_with_abnormal_long_term_variability',\n",
              " 'prolongued_decelerations',\n",
              " 'histogram_mean',\n",
              " 'baseline value',\n",
              " 'mean_value_of_short_term_variability',\n",
              " 'histogram_min',\n",
              " 'accelerations',\n",
              " 'histogram_median',\n",
              " 'histogram_width']"
            ]
          },
          "metadata": {},
          "execution_count": 35
        }
      ]
    },
    {
      "cell_type": "markdown",
      "source": [
        "Among those 10 features, 8 are in the 10 best features obtained with correlation matrix and ANOVA methods. However, we notice that 'uterine_contractions' is not among the selected features using this method although it was the fifth most important feature with ANOVA."
      ],
      "metadata": {
        "id": "H3b6hBl9OJtQ"
      }
    },
    {
      "cell_type": "code",
      "source": [
        "# Create new dataframes with features selection for train and test sets\n",
        "X_train_tree_fs_df = train_df[['abnormal_short_term_variability', 'percentage_of_time_with_abnormal_long_term_variability', 'prolongued_decelerations', 'histogram_mean', 'baseline value', 'mean_value_of_short_term_variability', 'histogram_min', 'accelerations','histogram_median','histogram_width']].copy()\n",
        "X_test_tree_fs_df = test_df[['abnormal_short_term_variability', 'percentage_of_time_with_abnormal_long_term_variability', 'prolongued_decelerations', 'histogram_mean', 'baseline value', 'mean_value_of_short_term_variability', 'histogram_min', 'accelerations','histogram_median','histogram_width']].copy()\n",
        "print(X_train_tree_fs_df.shape)\n",
        "print(X_test_tree_fs_df.shape)"
      ],
      "metadata": {
        "colab": {
          "base_uri": "https://localhost:8080/"
        },
        "id": "QD2rOhzUjTB5",
        "outputId": "bffcc775-f80e-439a-d55b-2ba54f71709a"
      },
      "execution_count": 36,
      "outputs": [
        {
          "output_type": "stream",
          "name": "stdout",
          "text": [
            "(1479, 10)\n",
            "(634, 10)\n"
          ]
        }
      ]
    },
    {
      "cell_type": "markdown",
      "source": [
        "#**Prediction with features selection**"
      ],
      "metadata": {
        "id": "NtgFtBnRbKmT"
      }
    },
    {
      "cell_type": "markdown",
      "source": [
        "The function prediction_performance will generate two tables with all the metrics we need to evaluate our prediction using different models: one table for training and one for testing. At the end, a comparison and analysis of these results will help us to pick the best model for fetal health classification."
      ],
      "metadata": {
        "id": "AUHuj14qxzOL"
      }
    },
    {
      "cell_type": "code",
      "source": [
        "def prediction_performance(X_train,y_train, X_test,y_test):\n",
        "\n",
        "  # classifier names and classes \n",
        "  names = [\"K Nearest Neighbors\", \"Logistic Regression\", \"Linear SVM\", \"RBF SVM\", \n",
        "         \"Decision Tree\", \"Random Forest\", \"MLP\",\"Gradient  Boosting\", \"Extreme Gradient Boosting\"]\n",
        "  classifiers = [\n",
        "    KNeighborsClassifier(6),\n",
        "    LogisticRegression(),\n",
        "    SVC(kernel=\"linear\", C=10, gamma=0.01),\n",
        "    SVC(kernel=\"rbf\", C=10, gamma=0.05),\n",
        "    DecisionTreeClassifier(max_depth=12, random_state=1),\n",
        "    RandomForestClassifier(criterion='entropy', max_depth=12, n_estimators=200, random_state=1),\n",
        "    MLPClassifier(hidden_layer_sizes=(10, 30, 10), alpha= 0.0001, learning_rate='constant',  activation='relu', solver='adam'),\n",
        "    GradientBoostingClassifier(),\n",
        "    XGBClassifier()] \n",
        "    #Two tables for training and testing results\n",
        "  model_train = pd.DataFrame(columns=['Model','Training Precision','Training Recall','Training f1 Score', 'Training Accuracy'])\n",
        "  model_test = pd.DataFrame(columns=['Model','Test Precision','Test Recall','Test f1 Score', 'Test Accuracy'])\n",
        "    # iterate over classifiers\n",
        "  for  clf,name in  zip(classifiers,names):\n",
        "    clf.fit(X_train, y_train)\n",
        "    train_pred=clf.predict(X_train)\n",
        "    y_pred = clf.predict(X_test)\n",
        "    precision=precision_score(y_test,y_pred)\n",
        "    recall=recall_score(y_test,y_pred)\n",
        "    f1= f1_score(y_test, y_pred)\n",
        "    accuracy = accuracy_score(y_test,y_pred)\n",
        "    precision_tr=precision_score(y_train,train_pred)\n",
        "    recall_tr=recall_score(y_train,train_pred)\n",
        "    f1_tr= f1_score(y_train, train_pred)\n",
        "    accuracy_tr = accuracy_score(y_train,train_pred)\n",
        "\n",
        "    model_test = model_test.append({'Model': name, 'Test Precision':precision, 'Test Recall':recall, 'Test f1 Score': f1, 'Test Accuracy': accuracy},ignore_index=True )\n",
        "    model_train = model_train.append({'Model': name, 'Training Precision':precision_tr, 'Training Recall':recall_tr, 'Training f1 Score': f1_tr, 'Training Accuracy': accuracy_tr},ignore_index=True )\n",
        " \n",
        "  m1=model_train.sort_values(ascending=False, by = 'Training Accuracy')\n",
        "  m2=model_test.sort_values(ascending=False, by = 'Test Accuracy')\n",
        "  display_html(m1._repr_html_()+m2._repr_html_(),raw=True)"
      ],
      "metadata": {
        "id": "8hchzjdQbOCU"
      },
      "execution_count": 37,
      "outputs": []
    },
    {
      "cell_type": "code",
      "source": [
        "# Prediction without features selection\n",
        "prediction_performance(X_train,y_train, X_test,y_test)"
      ],
      "metadata": {
        "colab": {
          "base_uri": "https://localhost:8080/",
          "height": 704
        },
        "id": "TWmcJROElAOK",
        "outputId": "8e819e25-fb8a-4020-ca81-9f5ff224cdcd"
      },
      "execution_count": 38,
      "outputs": [
        {
          "output_type": "stream",
          "name": "stderr",
          "text": [
            "/usr/local/lib/python3.7/dist-packages/sklearn/neural_network/_multilayer_perceptron.py:696: ConvergenceWarning: Stochastic Optimizer: Maximum iterations (200) reached and the optimization hasn't converged yet.\n",
            "  ConvergenceWarning,\n"
          ]
        },
        {
          "output_type": "display_data",
          "data": {
            "text/html": [
              "<div>\n",
              "<style scoped>\n",
              "    .dataframe tbody tr th:only-of-type {\n",
              "        vertical-align: middle;\n",
              "    }\n",
              "\n",
              "    .dataframe tbody tr th {\n",
              "        vertical-align: top;\n",
              "    }\n",
              "\n",
              "    .dataframe thead th {\n",
              "        text-align: right;\n",
              "    }\n",
              "</style>\n",
              "<table border=\"1\" class=\"dataframe\">\n",
              "  <thead>\n",
              "    <tr style=\"text-align: right;\">\n",
              "      <th></th>\n",
              "      <th>Model</th>\n",
              "      <th>Training Precision</th>\n",
              "      <th>Training Recall</th>\n",
              "      <th>Training f1 Score</th>\n",
              "      <th>Training Accuracy</th>\n",
              "    </tr>\n",
              "  </thead>\n",
              "  <tbody>\n",
              "    <tr>\n",
              "      <th>5</th>\n",
              "      <td>Random Forest</td>\n",
              "      <td>0.996942</td>\n",
              "      <td>0.996942</td>\n",
              "      <td>0.996942</td>\n",
              "      <td>0.998648</td>\n",
              "    </tr>\n",
              "    <tr>\n",
              "      <th>7</th>\n",
              "      <td>Gradient  Boosting</td>\n",
              "      <td>0.993730</td>\n",
              "      <td>0.969419</td>\n",
              "      <td>0.981424</td>\n",
              "      <td>0.991886</td>\n",
              "    </tr>\n",
              "    <tr>\n",
              "      <th>4</th>\n",
              "      <td>Decision Tree</td>\n",
              "      <td>0.981538</td>\n",
              "      <td>0.975535</td>\n",
              "      <td>0.978528</td>\n",
              "      <td>0.990534</td>\n",
              "    </tr>\n",
              "    <tr>\n",
              "      <th>8</th>\n",
              "      <td>Extreme Gradient Boosting</td>\n",
              "      <td>0.984127</td>\n",
              "      <td>0.948012</td>\n",
              "      <td>0.965732</td>\n",
              "      <td>0.985125</td>\n",
              "    </tr>\n",
              "    <tr>\n",
              "      <th>3</th>\n",
              "      <td>RBF SVM</td>\n",
              "      <td>0.962145</td>\n",
              "      <td>0.932722</td>\n",
              "      <td>0.947205</td>\n",
              "      <td>0.977011</td>\n",
              "    </tr>\n",
              "    <tr>\n",
              "      <th>6</th>\n",
              "      <td>MLP</td>\n",
              "      <td>0.956386</td>\n",
              "      <td>0.938838</td>\n",
              "      <td>0.947531</td>\n",
              "      <td>0.977011</td>\n",
              "    </tr>\n",
              "    <tr>\n",
              "      <th>0</th>\n",
              "      <td>K Nearest Neighbors</td>\n",
              "      <td>0.937984</td>\n",
              "      <td>0.740061</td>\n",
              "      <td>0.827350</td>\n",
              "      <td>0.931711</td>\n",
              "    </tr>\n",
              "    <tr>\n",
              "      <th>1</th>\n",
              "      <td>Logistic Regression</td>\n",
              "      <td>0.826367</td>\n",
              "      <td>0.785933</td>\n",
              "      <td>0.805643</td>\n",
              "      <td>0.916160</td>\n",
              "    </tr>\n",
              "    <tr>\n",
              "      <th>2</th>\n",
              "      <td>Linear SVM</td>\n",
              "      <td>0.828479</td>\n",
              "      <td>0.782875</td>\n",
              "      <td>0.805031</td>\n",
              "      <td>0.916160</td>\n",
              "    </tr>\n",
              "  </tbody>\n",
              "</table>\n",
              "</div><div>\n",
              "<style scoped>\n",
              "    .dataframe tbody tr th:only-of-type {\n",
              "        vertical-align: middle;\n",
              "    }\n",
              "\n",
              "    .dataframe tbody tr th {\n",
              "        vertical-align: top;\n",
              "    }\n",
              "\n",
              "    .dataframe thead th {\n",
              "        text-align: right;\n",
              "    }\n",
              "</style>\n",
              "<table border=\"1\" class=\"dataframe\">\n",
              "  <thead>\n",
              "    <tr style=\"text-align: right;\">\n",
              "      <th></th>\n",
              "      <th>Model</th>\n",
              "      <th>Test Precision</th>\n",
              "      <th>Test Recall</th>\n",
              "      <th>Test f1 Score</th>\n",
              "      <th>Test Accuracy</th>\n",
              "    </tr>\n",
              "  </thead>\n",
              "  <tbody>\n",
              "    <tr>\n",
              "      <th>5</th>\n",
              "      <td>Random Forest</td>\n",
              "      <td>0.889706</td>\n",
              "      <td>0.864286</td>\n",
              "      <td>0.876812</td>\n",
              "      <td>0.946372</td>\n",
              "    </tr>\n",
              "    <tr>\n",
              "      <th>7</th>\n",
              "      <td>Gradient  Boosting</td>\n",
              "      <td>0.907692</td>\n",
              "      <td>0.842857</td>\n",
              "      <td>0.874074</td>\n",
              "      <td>0.946372</td>\n",
              "    </tr>\n",
              "    <tr>\n",
              "      <th>8</th>\n",
              "      <td>Extreme Gradient Boosting</td>\n",
              "      <td>0.876812</td>\n",
              "      <td>0.864286</td>\n",
              "      <td>0.870504</td>\n",
              "      <td>0.943218</td>\n",
              "    </tr>\n",
              "    <tr>\n",
              "      <th>3</th>\n",
              "      <td>RBF SVM</td>\n",
              "      <td>0.845588</td>\n",
              "      <td>0.821429</td>\n",
              "      <td>0.833333</td>\n",
              "      <td>0.927445</td>\n",
              "    </tr>\n",
              "    <tr>\n",
              "      <th>4</th>\n",
              "      <td>Decision Tree</td>\n",
              "      <td>0.805556</td>\n",
              "      <td>0.828571</td>\n",
              "      <td>0.816901</td>\n",
              "      <td>0.917981</td>\n",
              "    </tr>\n",
              "    <tr>\n",
              "      <th>6</th>\n",
              "      <td>MLP</td>\n",
              "      <td>0.813433</td>\n",
              "      <td>0.778571</td>\n",
              "      <td>0.795620</td>\n",
              "      <td>0.911672</td>\n",
              "    </tr>\n",
              "    <tr>\n",
              "      <th>0</th>\n",
              "      <td>K Nearest Neighbors</td>\n",
              "      <td>0.873874</td>\n",
              "      <td>0.692857</td>\n",
              "      <td>0.772908</td>\n",
              "      <td>0.910095</td>\n",
              "    </tr>\n",
              "    <tr>\n",
              "      <th>1</th>\n",
              "      <td>Logistic Regression</td>\n",
              "      <td>0.762238</td>\n",
              "      <td>0.778571</td>\n",
              "      <td>0.770318</td>\n",
              "      <td>0.897476</td>\n",
              "    </tr>\n",
              "    <tr>\n",
              "      <th>2</th>\n",
              "      <td>Linear SVM</td>\n",
              "      <td>0.762590</td>\n",
              "      <td>0.757143</td>\n",
              "      <td>0.759857</td>\n",
              "      <td>0.894322</td>\n",
              "    </tr>\n",
              "  </tbody>\n",
              "</table>\n",
              "</div>"
            ]
          },
          "metadata": {}
        }
      ]
    },
    {
      "cell_type": "markdown",
      "source": [
        "By using all the features (without features selection), we reached an accuracy of 94.6% with random forest model. This model has also the bigger f1 score (87.6%) and precision (90%), and a high recall (86.4%).\n",
        "\n",
        "Now, we will compare the performance of these models by using the new samples obtained with different features selection methods."
      ],
      "metadata": {
        "id": "ugK1TXDGmYrA"
      }
    },
    {
      "cell_type": "markdown",
      "source": [
        "## Correlation matrix with heatmap/ Filter method ANOVA"
      ],
      "metadata": {
        "id": "Xflx7Onpw0g8"
      }
    },
    {
      "cell_type": "code",
      "source": [
        "prediction_performance(X_train_heatmap_fs_df,y_train, X_test_heatmap_fs_df,y_test)"
      ],
      "metadata": {
        "id": "5Mq9FxTnwtxC",
        "colab": {
          "base_uri": "https://localhost:8080/",
          "height": 704
        },
        "outputId": "213e1c92-e1cf-4272-d0de-741da055ddac"
      },
      "execution_count": 39,
      "outputs": [
        {
          "output_type": "stream",
          "name": "stderr",
          "text": [
            "/usr/local/lib/python3.7/dist-packages/sklearn/neural_network/_multilayer_perceptron.py:696: ConvergenceWarning: Stochastic Optimizer: Maximum iterations (200) reached and the optimization hasn't converged yet.\n",
            "  ConvergenceWarning,\n"
          ]
        },
        {
          "output_type": "display_data",
          "data": {
            "text/html": [
              "<div>\n",
              "<style scoped>\n",
              "    .dataframe tbody tr th:only-of-type {\n",
              "        vertical-align: middle;\n",
              "    }\n",
              "\n",
              "    .dataframe tbody tr th {\n",
              "        vertical-align: top;\n",
              "    }\n",
              "\n",
              "    .dataframe thead th {\n",
              "        text-align: right;\n",
              "    }\n",
              "</style>\n",
              "<table border=\"1\" class=\"dataframe\">\n",
              "  <thead>\n",
              "    <tr style=\"text-align: right;\">\n",
              "      <th></th>\n",
              "      <th>Model</th>\n",
              "      <th>Training Precision</th>\n",
              "      <th>Training Recall</th>\n",
              "      <th>Training f1 Score</th>\n",
              "      <th>Training Accuracy</th>\n",
              "    </tr>\n",
              "  </thead>\n",
              "  <tbody>\n",
              "    <tr>\n",
              "      <th>5</th>\n",
              "      <td>Random Forest</td>\n",
              "      <td>0.996933</td>\n",
              "      <td>0.993884</td>\n",
              "      <td>0.995406</td>\n",
              "      <td>0.997972</td>\n",
              "    </tr>\n",
              "    <tr>\n",
              "      <th>4</th>\n",
              "      <td>Decision Tree</td>\n",
              "      <td>1.000000</td>\n",
              "      <td>0.963303</td>\n",
              "      <td>0.981308</td>\n",
              "      <td>0.991886</td>\n",
              "    </tr>\n",
              "    <tr>\n",
              "      <th>7</th>\n",
              "      <td>Gradient  Boosting</td>\n",
              "      <td>0.987138</td>\n",
              "      <td>0.938838</td>\n",
              "      <td>0.962382</td>\n",
              "      <td>0.983773</td>\n",
              "    </tr>\n",
              "    <tr>\n",
              "      <th>8</th>\n",
              "      <td>Extreme Gradient Boosting</td>\n",
              "      <td>0.980263</td>\n",
              "      <td>0.911315</td>\n",
              "      <td>0.944532</td>\n",
              "      <td>0.976335</td>\n",
              "    </tr>\n",
              "    <tr>\n",
              "      <th>6</th>\n",
              "      <td>MLP</td>\n",
              "      <td>0.905363</td>\n",
              "      <td>0.877676</td>\n",
              "      <td>0.891304</td>\n",
              "      <td>0.952671</td>\n",
              "    </tr>\n",
              "    <tr>\n",
              "      <th>3</th>\n",
              "      <td>RBF SVM</td>\n",
              "      <td>0.908197</td>\n",
              "      <td>0.847095</td>\n",
              "      <td>0.876582</td>\n",
              "      <td>0.947262</td>\n",
              "    </tr>\n",
              "    <tr>\n",
              "      <th>0</th>\n",
              "      <td>K Nearest Neighbors</td>\n",
              "      <td>0.946565</td>\n",
              "      <td>0.758410</td>\n",
              "      <td>0.842105</td>\n",
              "      <td>0.937120</td>\n",
              "    </tr>\n",
              "    <tr>\n",
              "      <th>1</th>\n",
              "      <td>Logistic Regression</td>\n",
              "      <td>0.810897</td>\n",
              "      <td>0.773700</td>\n",
              "      <td>0.791862</td>\n",
              "      <td>0.910074</td>\n",
              "    </tr>\n",
              "    <tr>\n",
              "      <th>2</th>\n",
              "      <td>Linear SVM</td>\n",
              "      <td>0.809677</td>\n",
              "      <td>0.767584</td>\n",
              "      <td>0.788069</td>\n",
              "      <td>0.908722</td>\n",
              "    </tr>\n",
              "  </tbody>\n",
              "</table>\n",
              "</div><div>\n",
              "<style scoped>\n",
              "    .dataframe tbody tr th:only-of-type {\n",
              "        vertical-align: middle;\n",
              "    }\n",
              "\n",
              "    .dataframe tbody tr th {\n",
              "        vertical-align: top;\n",
              "    }\n",
              "\n",
              "    .dataframe thead th {\n",
              "        text-align: right;\n",
              "    }\n",
              "</style>\n",
              "<table border=\"1\" class=\"dataframe\">\n",
              "  <thead>\n",
              "    <tr style=\"text-align: right;\">\n",
              "      <th></th>\n",
              "      <th>Model</th>\n",
              "      <th>Test Precision</th>\n",
              "      <th>Test Recall</th>\n",
              "      <th>Test f1 Score</th>\n",
              "      <th>Test Accuracy</th>\n",
              "    </tr>\n",
              "  </thead>\n",
              "  <tbody>\n",
              "    <tr>\n",
              "      <th>5</th>\n",
              "      <td>Random Forest</td>\n",
              "      <td>0.879699</td>\n",
              "      <td>0.835714</td>\n",
              "      <td>0.857143</td>\n",
              "      <td>0.938486</td>\n",
              "    </tr>\n",
              "    <tr>\n",
              "      <th>7</th>\n",
              "      <td>Gradient  Boosting</td>\n",
              "      <td>0.850746</td>\n",
              "      <td>0.814286</td>\n",
              "      <td>0.832117</td>\n",
              "      <td>0.927445</td>\n",
              "    </tr>\n",
              "    <tr>\n",
              "      <th>6</th>\n",
              "      <td>MLP</td>\n",
              "      <td>0.842105</td>\n",
              "      <td>0.800000</td>\n",
              "      <td>0.820513</td>\n",
              "      <td>0.922713</td>\n",
              "    </tr>\n",
              "    <tr>\n",
              "      <th>8</th>\n",
              "      <td>Extreme Gradient Boosting</td>\n",
              "      <td>0.842105</td>\n",
              "      <td>0.800000</td>\n",
              "      <td>0.820513</td>\n",
              "      <td>0.922713</td>\n",
              "    </tr>\n",
              "    <tr>\n",
              "      <th>3</th>\n",
              "      <td>RBF SVM</td>\n",
              "      <td>0.843750</td>\n",
              "      <td>0.771429</td>\n",
              "      <td>0.805970</td>\n",
              "      <td>0.917981</td>\n",
              "    </tr>\n",
              "    <tr>\n",
              "      <th>4</th>\n",
              "      <td>Decision Tree</td>\n",
              "      <td>0.792857</td>\n",
              "      <td>0.792857</td>\n",
              "      <td>0.792857</td>\n",
              "      <td>0.908517</td>\n",
              "    </tr>\n",
              "    <tr>\n",
              "      <th>0</th>\n",
              "      <td>K Nearest Neighbors</td>\n",
              "      <td>0.854545</td>\n",
              "      <td>0.671429</td>\n",
              "      <td>0.752000</td>\n",
              "      <td>0.902208</td>\n",
              "    </tr>\n",
              "    <tr>\n",
              "      <th>2</th>\n",
              "      <td>Linear SVM</td>\n",
              "      <td>0.739130</td>\n",
              "      <td>0.728571</td>\n",
              "      <td>0.733813</td>\n",
              "      <td>0.883281</td>\n",
              "    </tr>\n",
              "    <tr>\n",
              "      <th>1</th>\n",
              "      <td>Logistic Regression</td>\n",
              "      <td>0.730496</td>\n",
              "      <td>0.735714</td>\n",
              "      <td>0.733096</td>\n",
              "      <td>0.881703</td>\n",
              "    </tr>\n",
              "  </tbody>\n",
              "</table>\n",
              "</div>"
            ]
          },
          "metadata": {}
        }
      ]
    },
    {
      "cell_type": "markdown",
      "source": [
        "We notice that ANOVA algorithm gives approximatively the same results as without any features selection, but it helps a lot to reduce the complexity of this prediction problem by passing from 21 features to only 10. "
      ],
      "metadata": {
        "id": "AtwV3ZNinita"
      }
    },
    {
      "cell_type": "markdown",
      "source": [
        "## Wrapper method: RFECV with Logistic Regression\n"
      ],
      "metadata": {
        "id": "D21eXry5d4KZ"
      }
    },
    {
      "cell_type": "code",
      "source": [
        "prediction_performance(X_train_rfecv_fs_df,y_train, X_test_rfecv_fs_df,y_test)"
      ],
      "metadata": {
        "colab": {
          "base_uri": "https://localhost:8080/",
          "height": 704
        },
        "id": "ERd3jAyWeL4w",
        "outputId": "1963bf51-9b86-40c3-9938-deb49a9434fb"
      },
      "execution_count": 40,
      "outputs": [
        {
          "output_type": "stream",
          "name": "stderr",
          "text": [
            "/usr/local/lib/python3.7/dist-packages/sklearn/neural_network/_multilayer_perceptron.py:696: ConvergenceWarning: Stochastic Optimizer: Maximum iterations (200) reached and the optimization hasn't converged yet.\n",
            "  ConvergenceWarning,\n"
          ]
        },
        {
          "output_type": "display_data",
          "data": {
            "text/html": [
              "<div>\n",
              "<style scoped>\n",
              "    .dataframe tbody tr th:only-of-type {\n",
              "        vertical-align: middle;\n",
              "    }\n",
              "\n",
              "    .dataframe tbody tr th {\n",
              "        vertical-align: top;\n",
              "    }\n",
              "\n",
              "    .dataframe thead th {\n",
              "        text-align: right;\n",
              "    }\n",
              "</style>\n",
              "<table border=\"1\" class=\"dataframe\">\n",
              "  <thead>\n",
              "    <tr style=\"text-align: right;\">\n",
              "      <th></th>\n",
              "      <th>Model</th>\n",
              "      <th>Training Precision</th>\n",
              "      <th>Training Recall</th>\n",
              "      <th>Training f1 Score</th>\n",
              "      <th>Training Accuracy</th>\n",
              "    </tr>\n",
              "  </thead>\n",
              "  <tbody>\n",
              "    <tr>\n",
              "      <th>5</th>\n",
              "      <td>Random Forest</td>\n",
              "      <td>0.993902</td>\n",
              "      <td>0.996942</td>\n",
              "      <td>0.995420</td>\n",
              "      <td>0.997972</td>\n",
              "    </tr>\n",
              "    <tr>\n",
              "      <th>4</th>\n",
              "      <td>Decision Tree</td>\n",
              "      <td>0.984802</td>\n",
              "      <td>0.990826</td>\n",
              "      <td>0.987805</td>\n",
              "      <td>0.994591</td>\n",
              "    </tr>\n",
              "    <tr>\n",
              "      <th>7</th>\n",
              "      <td>Gradient  Boosting</td>\n",
              "      <td>0.962025</td>\n",
              "      <td>0.929664</td>\n",
              "      <td>0.945568</td>\n",
              "      <td>0.976335</td>\n",
              "    </tr>\n",
              "    <tr>\n",
              "      <th>8</th>\n",
              "      <td>Extreme Gradient Boosting</td>\n",
              "      <td>0.958333</td>\n",
              "      <td>0.914373</td>\n",
              "      <td>0.935837</td>\n",
              "      <td>0.972279</td>\n",
              "    </tr>\n",
              "    <tr>\n",
              "      <th>0</th>\n",
              "      <td>K Nearest Neighbors</td>\n",
              "      <td>0.930464</td>\n",
              "      <td>0.859327</td>\n",
              "      <td>0.893482</td>\n",
              "      <td>0.954699</td>\n",
              "    </tr>\n",
              "    <tr>\n",
              "      <th>6</th>\n",
              "      <td>MLP</td>\n",
              "      <td>0.888218</td>\n",
              "      <td>0.899083</td>\n",
              "      <td>0.893617</td>\n",
              "      <td>0.952671</td>\n",
              "    </tr>\n",
              "    <tr>\n",
              "      <th>3</th>\n",
              "      <td>RBF SVM</td>\n",
              "      <td>0.875000</td>\n",
              "      <td>0.856269</td>\n",
              "      <td>0.865533</td>\n",
              "      <td>0.941176</td>\n",
              "    </tr>\n",
              "    <tr>\n",
              "      <th>2</th>\n",
              "      <td>Linear SVM</td>\n",
              "      <td>0.792453</td>\n",
              "      <td>0.770642</td>\n",
              "      <td>0.781395</td>\n",
              "      <td>0.904665</td>\n",
              "    </tr>\n",
              "    <tr>\n",
              "      <th>1</th>\n",
              "      <td>Logistic Regression</td>\n",
              "      <td>0.776398</td>\n",
              "      <td>0.764526</td>\n",
              "      <td>0.770416</td>\n",
              "      <td>0.899256</td>\n",
              "    </tr>\n",
              "  </tbody>\n",
              "</table>\n",
              "</div><div>\n",
              "<style scoped>\n",
              "    .dataframe tbody tr th:only-of-type {\n",
              "        vertical-align: middle;\n",
              "    }\n",
              "\n",
              "    .dataframe tbody tr th {\n",
              "        vertical-align: top;\n",
              "    }\n",
              "\n",
              "    .dataframe thead th {\n",
              "        text-align: right;\n",
              "    }\n",
              "</style>\n",
              "<table border=\"1\" class=\"dataframe\">\n",
              "  <thead>\n",
              "    <tr style=\"text-align: right;\">\n",
              "      <th></th>\n",
              "      <th>Model</th>\n",
              "      <th>Test Precision</th>\n",
              "      <th>Test Recall</th>\n",
              "      <th>Test f1 Score</th>\n",
              "      <th>Test Accuracy</th>\n",
              "    </tr>\n",
              "  </thead>\n",
              "  <tbody>\n",
              "    <tr>\n",
              "      <th>5</th>\n",
              "      <td>Random Forest</td>\n",
              "      <td>0.884615</td>\n",
              "      <td>0.821429</td>\n",
              "      <td>0.851852</td>\n",
              "      <td>0.936909</td>\n",
              "    </tr>\n",
              "    <tr>\n",
              "      <th>7</th>\n",
              "      <td>Gradient  Boosting</td>\n",
              "      <td>0.890625</td>\n",
              "      <td>0.814286</td>\n",
              "      <td>0.850746</td>\n",
              "      <td>0.936909</td>\n",
              "    </tr>\n",
              "    <tr>\n",
              "      <th>8</th>\n",
              "      <td>Extreme Gradient Boosting</td>\n",
              "      <td>0.888000</td>\n",
              "      <td>0.792857</td>\n",
              "      <td>0.837736</td>\n",
              "      <td>0.932177</td>\n",
              "    </tr>\n",
              "    <tr>\n",
              "      <th>0</th>\n",
              "      <td>K Nearest Neighbors</td>\n",
              "      <td>0.861789</td>\n",
              "      <td>0.757143</td>\n",
              "      <td>0.806084</td>\n",
              "      <td>0.919558</td>\n",
              "    </tr>\n",
              "    <tr>\n",
              "      <th>3</th>\n",
              "      <td>RBF SVM</td>\n",
              "      <td>0.822222</td>\n",
              "      <td>0.792857</td>\n",
              "      <td>0.807273</td>\n",
              "      <td>0.916404</td>\n",
              "    </tr>\n",
              "    <tr>\n",
              "      <th>4</th>\n",
              "      <td>Decision Tree</td>\n",
              "      <td>0.822222</td>\n",
              "      <td>0.792857</td>\n",
              "      <td>0.807273</td>\n",
              "      <td>0.916404</td>\n",
              "    </tr>\n",
              "    <tr>\n",
              "      <th>6</th>\n",
              "      <td>MLP</td>\n",
              "      <td>0.800000</td>\n",
              "      <td>0.800000</td>\n",
              "      <td>0.800000</td>\n",
              "      <td>0.911672</td>\n",
              "    </tr>\n",
              "    <tr>\n",
              "      <th>2</th>\n",
              "      <td>Linear SVM</td>\n",
              "      <td>0.757812</td>\n",
              "      <td>0.692857</td>\n",
              "      <td>0.723881</td>\n",
              "      <td>0.883281</td>\n",
              "    </tr>\n",
              "    <tr>\n",
              "      <th>1</th>\n",
              "      <td>Logistic Regression</td>\n",
              "      <td>0.720588</td>\n",
              "      <td>0.700000</td>\n",
              "      <td>0.710145</td>\n",
              "      <td>0.873817</td>\n",
              "    </tr>\n",
              "  </tbody>\n",
              "</table>\n",
              "</div>"
            ]
          },
          "metadata": {}
        }
      ]
    },
    {
      "cell_type": "markdown",
      "source": [
        "The wrapper method also gives us quite well results for all the metrics, by keeping only 7 features out of 21."
      ],
      "metadata": {
        "id": "qZh3Bt1GoLh-"
      }
    },
    {
      "cell_type": "markdown",
      "source": [
        "## Intrinsic method: Decision tree"
      ],
      "metadata": {
        "id": "lTEOupsFjshL"
      }
    },
    {
      "cell_type": "code",
      "source": [
        "prediction_performance(X_train_tree_fs_df,y_train, X_test_tree_fs_df,y_test)"
      ],
      "metadata": {
        "colab": {
          "base_uri": "https://localhost:8080/",
          "height": 704
        },
        "id": "cMDp2bpAf5zh",
        "outputId": "8e601364-6e22-4960-9822-b1b1503af9ad"
      },
      "execution_count": 41,
      "outputs": [
        {
          "output_type": "stream",
          "name": "stderr",
          "text": [
            "/usr/local/lib/python3.7/dist-packages/sklearn/neural_network/_multilayer_perceptron.py:696: ConvergenceWarning: Stochastic Optimizer: Maximum iterations (200) reached and the optimization hasn't converged yet.\n",
            "  ConvergenceWarning,\n"
          ]
        },
        {
          "output_type": "display_data",
          "data": {
            "text/html": [
              "<div>\n",
              "<style scoped>\n",
              "    .dataframe tbody tr th:only-of-type {\n",
              "        vertical-align: middle;\n",
              "    }\n",
              "\n",
              "    .dataframe tbody tr th {\n",
              "        vertical-align: top;\n",
              "    }\n",
              "\n",
              "    .dataframe thead th {\n",
              "        text-align: right;\n",
              "    }\n",
              "</style>\n",
              "<table border=\"1\" class=\"dataframe\">\n",
              "  <thead>\n",
              "    <tr style=\"text-align: right;\">\n",
              "      <th></th>\n",
              "      <th>Model</th>\n",
              "      <th>Training Precision</th>\n",
              "      <th>Training Recall</th>\n",
              "      <th>Training f1 Score</th>\n",
              "      <th>Training Accuracy</th>\n",
              "    </tr>\n",
              "  </thead>\n",
              "  <tbody>\n",
              "    <tr>\n",
              "      <th>5</th>\n",
              "      <td>Random Forest</td>\n",
              "      <td>0.996942</td>\n",
              "      <td>0.996942</td>\n",
              "      <td>0.996942</td>\n",
              "      <td>0.998648</td>\n",
              "    </tr>\n",
              "    <tr>\n",
              "      <th>4</th>\n",
              "      <td>Decision Tree</td>\n",
              "      <td>0.996875</td>\n",
              "      <td>0.975535</td>\n",
              "      <td>0.986090</td>\n",
              "      <td>0.993915</td>\n",
              "    </tr>\n",
              "    <tr>\n",
              "      <th>7</th>\n",
              "      <td>Gradient  Boosting</td>\n",
              "      <td>0.963077</td>\n",
              "      <td>0.957187</td>\n",
              "      <td>0.960123</td>\n",
              "      <td>0.982421</td>\n",
              "    </tr>\n",
              "    <tr>\n",
              "      <th>8</th>\n",
              "      <td>Extreme Gradient Boosting</td>\n",
              "      <td>0.953125</td>\n",
              "      <td>0.932722</td>\n",
              "      <td>0.942813</td>\n",
              "      <td>0.974983</td>\n",
              "    </tr>\n",
              "    <tr>\n",
              "      <th>6</th>\n",
              "      <td>MLP</td>\n",
              "      <td>0.881306</td>\n",
              "      <td>0.908257</td>\n",
              "      <td>0.894578</td>\n",
              "      <td>0.952671</td>\n",
              "    </tr>\n",
              "    <tr>\n",
              "      <th>3</th>\n",
              "      <td>RBF SVM</td>\n",
              "      <td>0.909677</td>\n",
              "      <td>0.862385</td>\n",
              "      <td>0.885400</td>\n",
              "      <td>0.950642</td>\n",
              "    </tr>\n",
              "    <tr>\n",
              "      <th>0</th>\n",
              "      <td>K Nearest Neighbors</td>\n",
              "      <td>0.921233</td>\n",
              "      <td>0.822630</td>\n",
              "      <td>0.869144</td>\n",
              "      <td>0.945233</td>\n",
              "    </tr>\n",
              "    <tr>\n",
              "      <th>2</th>\n",
              "      <td>Linear SVM</td>\n",
              "      <td>0.791411</td>\n",
              "      <td>0.788991</td>\n",
              "      <td>0.790199</td>\n",
              "      <td>0.907370</td>\n",
              "    </tr>\n",
              "    <tr>\n",
              "      <th>1</th>\n",
              "      <td>Logistic Regression</td>\n",
              "      <td>0.793651</td>\n",
              "      <td>0.764526</td>\n",
              "      <td>0.778816</td>\n",
              "      <td>0.903989</td>\n",
              "    </tr>\n",
              "  </tbody>\n",
              "</table>\n",
              "</div><div>\n",
              "<style scoped>\n",
              "    .dataframe tbody tr th:only-of-type {\n",
              "        vertical-align: middle;\n",
              "    }\n",
              "\n",
              "    .dataframe tbody tr th {\n",
              "        vertical-align: top;\n",
              "    }\n",
              "\n",
              "    .dataframe thead th {\n",
              "        text-align: right;\n",
              "    }\n",
              "</style>\n",
              "<table border=\"1\" class=\"dataframe\">\n",
              "  <thead>\n",
              "    <tr style=\"text-align: right;\">\n",
              "      <th></th>\n",
              "      <th>Model</th>\n",
              "      <th>Test Precision</th>\n",
              "      <th>Test Recall</th>\n",
              "      <th>Test f1 Score</th>\n",
              "      <th>Test Accuracy</th>\n",
              "    </tr>\n",
              "  </thead>\n",
              "  <tbody>\n",
              "    <tr>\n",
              "      <th>5</th>\n",
              "      <td>Random Forest</td>\n",
              "      <td>0.870504</td>\n",
              "      <td>0.864286</td>\n",
              "      <td>0.867384</td>\n",
              "      <td>0.941640</td>\n",
              "    </tr>\n",
              "    <tr>\n",
              "      <th>7</th>\n",
              "      <td>Gradient  Boosting</td>\n",
              "      <td>0.847222</td>\n",
              "      <td>0.871429</td>\n",
              "      <td>0.859155</td>\n",
              "      <td>0.936909</td>\n",
              "    </tr>\n",
              "    <tr>\n",
              "      <th>8</th>\n",
              "      <td>Extreme Gradient Boosting</td>\n",
              "      <td>0.833333</td>\n",
              "      <td>0.857143</td>\n",
              "      <td>0.845070</td>\n",
              "      <td>0.930599</td>\n",
              "    </tr>\n",
              "    <tr>\n",
              "      <th>4</th>\n",
              "      <td>Decision Tree</td>\n",
              "      <td>0.809859</td>\n",
              "      <td>0.821429</td>\n",
              "      <td>0.815603</td>\n",
              "      <td>0.917981</td>\n",
              "    </tr>\n",
              "    <tr>\n",
              "      <th>6</th>\n",
              "      <td>MLP</td>\n",
              "      <td>0.811594</td>\n",
              "      <td>0.800000</td>\n",
              "      <td>0.805755</td>\n",
              "      <td>0.914826</td>\n",
              "    </tr>\n",
              "    <tr>\n",
              "      <th>3</th>\n",
              "      <td>RBF SVM</td>\n",
              "      <td>0.789855</td>\n",
              "      <td>0.778571</td>\n",
              "      <td>0.784173</td>\n",
              "      <td>0.905363</td>\n",
              "    </tr>\n",
              "    <tr>\n",
              "      <th>0</th>\n",
              "      <td>K Nearest Neighbors</td>\n",
              "      <td>0.816667</td>\n",
              "      <td>0.700000</td>\n",
              "      <td>0.753846</td>\n",
              "      <td>0.899054</td>\n",
              "    </tr>\n",
              "    <tr>\n",
              "      <th>2</th>\n",
              "      <td>Linear SVM</td>\n",
              "      <td>0.717241</td>\n",
              "      <td>0.742857</td>\n",
              "      <td>0.729825</td>\n",
              "      <td>0.878549</td>\n",
              "    </tr>\n",
              "    <tr>\n",
              "      <th>1</th>\n",
              "      <td>Logistic Regression</td>\n",
              "      <td>0.718310</td>\n",
              "      <td>0.728571</td>\n",
              "      <td>0.723404</td>\n",
              "      <td>0.876972</td>\n",
              "    </tr>\n",
              "  </tbody>\n",
              "</table>\n",
              "</div>"
            ]
          },
          "metadata": {}
        }
      ]
    },
    {
      "cell_type": "markdown",
      "source": [
        "Performing prediction with decision tree as a features selection method is also good, as we can reach high values for the four metrics in both training and testing phases. It gives the best performance among the different methods of features selection, approximately the same results as without features selection, but still not as good as without. "
      ],
      "metadata": {
        "id": "rCanbzu6x8Bq"
      }
    },
    {
      "cell_type": "markdown",
      "source": [
        "#**Conclusion**"
      ],
      "metadata": {
        "id": "nqPpcwe51QO5"
      }
    },
    {
      "cell_type": "markdown",
      "source": [
        "The features selection did not ameliorates the models mentioned before but we obtained aproximately the same results in both cases (with and without features selection). This is because the dataset used is a public dataset whose features have already been selected and the 11 not selected features still have an influence on the target. However, we were able to find the 10 most important features among the 21, and we get same performance with a minimal number of features. Thus, we reduced the complexity of the problem and we minimized the amount of computations and the time to run our code. <br>\n",
        "The 10 most important features are those obtained with the intrinsic method which are the following: abnormal_short_term_variability,  percentage_of_time_with_abnormal_long_term_variability, prolongued_decelerations, histogram_mean, baseline value, mean_value_of_short_term_variability, histogram_min, accelerations, histogram_median, histogram_width. <br>\n",
        "Thus, those features need to be analyzed more carefully by obstetricians. Plus, obstetricians can lean on machine learning algorithms and their experience in order to make a prediction."
      ],
      "metadata": {
        "id": "b2X6B5WQzrZJ"
      }
    }
  ]
}